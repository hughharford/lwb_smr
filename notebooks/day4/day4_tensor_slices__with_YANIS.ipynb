{
 "cells": [
  {
   "cell_type": "code",
   "execution_count": 1,
   "id": "3bc97d18-1eb2-4e52-b175-ecc71a9de403",
   "metadata": {},
   "outputs": [],
   "source": [
    "import os\n",
    "import glob\n",
    "import pandas as pd\n"
   ]
  },
  {
   "cell_type": "code",
   "execution_count": 2,
   "id": "274eed32-788a-465a-967b-ec34fe9d9815",
   "metadata": {},
   "outputs": [],
   "source": [
    "x_path = '../../raw_data/train_RGB_tiles_jpeg/'\n",
    "x_images = os.listdir(x_path)\n",
    "y_path = '../../raw_data/train_mask_tiles_jpeg/'\n",
    "y_masks = os.listdir(y_path)\n",
    "        "
   ]
  },
  {
   "cell_type": "code",
   "execution_count": 3,
   "id": "a7395881-9072-495b-992d-4f3281896c65",
   "metadata": {},
   "outputs": [
    {
     "data": {
      "text/plain": [
       "['../../raw_data/train_RGB_tiles_jpeg', '../../raw_data/train_mask_tiles_jpeg']"
      ]
     },
     "execution_count": 3,
     "metadata": {},
     "output_type": "execute_result"
    }
   ],
   "source": [
    "root_path = '../../raw_data/'\n",
    "folders = ['train_RGB_tiles_jpeg', 'train_mask_tiles_jpeg']\n",
    "folder_path = [f'{root_path}{folder}' for folder in folders]\n",
    "folder_path"
   ]
  },
  {
   "cell_type": "code",
   "execution_count": 18,
   "id": "f1c83d91-b2c7-4ef2-a256-12fd07740e54",
   "metadata": {},
   "outputs": [],
   "source": [
    "train_images, train_mask = [], []\n",
    "train_images =[f'../../raw_data/train_RGB_tiles_jpeg/{filename}' for filename in os.listdir(folder_path[0])]\n",
    "train_mask = [f'../../raw_data/train_mask_tiles_jpeg/{filename}' for filename in os.listdir(folder_path[1])]\n",
    "\n",
    "train_images.sort()\n",
    "train_mask.sort()\n"
   ]
  },
  {
   "cell_type": "code",
   "execution_count": 19,
   "id": "f79d917e-4bb9-4e1d-b11a-7af22ada9891",
   "metadata": {},
   "outputs": [
    {
     "data": {
      "text/html": [
       "<div>\n",
       "<style scoped>\n",
       "    .dataframe tbody tr th:only-of-type {\n",
       "        vertical-align: middle;\n",
       "    }\n",
       "\n",
       "    .dataframe tbody tr th {\n",
       "        vertical-align: top;\n",
       "    }\n",
       "\n",
       "    .dataframe thead th {\n",
       "        text-align: right;\n",
       "    }\n",
       "</style>\n",
       "<table border=\"1\" class=\"dataframe\">\n",
       "  <thead>\n",
       "    <tr style=\"text-align: right;\">\n",
       "      <th></th>\n",
       "      <th>image_path</th>\n",
       "      <th>mask_path</th>\n",
       "    </tr>\n",
       "  </thead>\n",
       "  <tbody>\n",
       "    <tr>\n",
       "      <th>0</th>\n",
       "      <td>../../raw_data/train_RGB_tiles_jpeg/austin10_x...</td>\n",
       "      <td>../../raw_data/train_mask_tiles_jpeg/austin10_...</td>\n",
       "    </tr>\n",
       "    <tr>\n",
       "      <th>1</th>\n",
       "      <td>../../raw_data/train_RGB_tiles_jpeg/austin10_x...</td>\n",
       "      <td>../../raw_data/train_mask_tiles_jpeg/austin10_...</td>\n",
       "    </tr>\n",
       "    <tr>\n",
       "      <th>2</th>\n",
       "      <td>../../raw_data/train_RGB_tiles_jpeg/austin10_x...</td>\n",
       "      <td>../../raw_data/train_mask_tiles_jpeg/austin10_...</td>\n",
       "    </tr>\n",
       "    <tr>\n",
       "      <th>3</th>\n",
       "      <td>../../raw_data/train_RGB_tiles_jpeg/austin10_x...</td>\n",
       "      <td>../../raw_data/train_mask_tiles_jpeg/austin10_...</td>\n",
       "    </tr>\n",
       "    <tr>\n",
       "      <th>4</th>\n",
       "      <td>../../raw_data/train_RGB_tiles_jpeg/austin10_x...</td>\n",
       "      <td>../../raw_data/train_mask_tiles_jpeg/austin10_...</td>\n",
       "    </tr>\n",
       "  </tbody>\n",
       "</table>\n",
       "</div>"
      ],
      "text/plain": [
       "                                          image_path  \\\n",
       "0  ../../raw_data/train_RGB_tiles_jpeg/austin10_x...   \n",
       "1  ../../raw_data/train_RGB_tiles_jpeg/austin10_x...   \n",
       "2  ../../raw_data/train_RGB_tiles_jpeg/austin10_x...   \n",
       "3  ../../raw_data/train_RGB_tiles_jpeg/austin10_x...   \n",
       "4  ../../raw_data/train_RGB_tiles_jpeg/austin10_x...   \n",
       "\n",
       "                                           mask_path  \n",
       "0  ../../raw_data/train_mask_tiles_jpeg/austin10_...  \n",
       "1  ../../raw_data/train_mask_tiles_jpeg/austin10_...  \n",
       "2  ../../raw_data/train_mask_tiles_jpeg/austin10_...  \n",
       "3  ../../raw_data/train_mask_tiles_jpeg/austin10_...  \n",
       "4  ../../raw_data/train_mask_tiles_jpeg/austin10_...  "
      ]
     },
     "execution_count": 19,
     "metadata": {},
     "output_type": "execute_result"
    }
   ],
   "source": [
    "train_df = pd.DataFrame()\n",
    "# train_df['file_path'] = train_images\n",
    "train_df['image_path'] = train_images\n",
    "train_df['mask_path'] = train_mask\n",
    "\n",
    "train_df.head()"
   ]
  },
  {
   "cell_type": "code",
   "execution_count": null,
   "id": "f0628b26-f29c-46d9-a6ed-002f3876b60e",
   "metadata": {},
   "outputs": [],
   "source": [
    "import tensorflow as tf\n",
    "from sklearn.model_selection import train_test_split\n",
    "\n",
    "def holdout(df, train_ratio=0.7, test_to_val_ratio=(0.05/0.3), include_all=False):\n",
    "\n",
    "    img_paths = df[\"image_path\"].values\n",
    "    msk_paths = df[\"mask_path\"].values\n",
    "\n",
    "    df_mask = df.copy()\n",
    "\n",
    "    df_train, df_val = train_test_split(df_mask, train_size=train_ratio)\n",
    "    df_test, df_val = train_test_split(df_val, test_size=test_to_val_ratio)\n",
    "\n",
    "    ds_train = tf.data.Dataset.from_tensor_slices(\n",
    "         (df_train[\"image_path\"].values, df_train[\"mask_path\"].values)\n",
    "    )\n",
    "    ds_val = tf.data.Dataset.from_tensor_slices(\n",
    "        (df_val[\"image_path\"].values, df_val[\"mask_path\"].values)\n",
    "    )\n",
    "    ds_test = tf.data.Dataset.from_tensor_slices(\n",
    "        (df_test[\"image_path\"].values, df_test[\"mask_path\"].values)\n",
    "    )\n",
    "\n",
    "    return ds_train, ds_val, ds_test"
   ]
  },
  {
   "cell_type": "code",
   "execution_count": 21,
   "id": "055e1d2a-2866-4a67-b341-fbe53ebe8dc1",
   "metadata": {},
   "outputs": [],
   "source": [
    "ds_train, ds_val, ds_test = holdout(train_df)"
   ]
  },
  {
   "cell_type": "code",
   "execution_count": 22,
   "id": "f673a2b4-9431-484d-a73a-4007ec7c6173",
   "metadata": {},
   "outputs": [],
   "source": [
    "def process_path(input_path, mask_path):\n",
    "    \"\"\"\n",
    "    Load images from files.\n",
    "    :input_path: the path to the satellite file\n",
    "    :mask_path: the path to the mask file\n",
    "    :return: The image and mask\n",
    "    .. note:: Works with jpg images \n",
    "              Only the first channel is kept for the mask\n",
    "    \"\"\"\n",
    "    \n",
    "    IMAGE_SQ_SIZE = 224\n",
    "\n",
    "    input_img = tf.io.read_file(input_path)   \n",
    "    input_img = tf.io.decode_jpeg(input_img, channels=3)\n",
    "    input_img =  tf.image.resize(input_img, [IMAGE_SQ_SIZE, IMAGE_SQ_SIZE])\n",
    "\n",
    "    mask_img = tf.io.read_file(mask_path)   \n",
    "    mask_img = tf.io.decode_jpeg(mask_img, channels=1)\n",
    "    mask_img =  tf.image.resize(mask_img, [IMAGE_SQ_SIZE, IMAGE_SQ_SIZE])\n",
    "\n",
    "   \n",
    "    return input_img, mask_img\n",
    "\n",
    "def normalize(image, mask):\n",
    "    # image = tf.cast(image, tf.float32) / 255.\n",
    "\n",
    "    return tf.math.divide(image, 255), tf.math.divide(mask, 255) "
   ]
  },
  {
   "cell_type": "code",
   "execution_count": 23,
   "id": "c7da3fc9-8d6a-4b4c-8bf7-dc42e4f6b2e2",
   "metadata": {},
   "outputs": [],
   "source": [
    "AUTOTUNE = tf.data.experimental.AUTOTUNE\n",
    "\n",
    "ds_train = ds_train.map(process_path) \\\n",
    ".map(normalize) \\\n",
    ".batch(batch_size=60) \\\n",
    ".prefetch(buffer_size=AUTOTUNE)"
   ]
  },
  {
   "cell_type": "code",
   "execution_count": 24,
   "id": "5832baf5-bf32-4191-9560-3fa90f8e9b48",
   "metadata": {},
   "outputs": [],
   "source": [
    "\n",
    "from tensorflow import keras\n",
    "import tensorflow as tf"
   ]
  },
  {
   "cell_type": "code",
   "execution_count": 25,
   "id": "052df7e5-3b1a-4bf2-ad03-ec573c6bc395",
   "metadata": {},
   "outputs": [],
   "source": [
    "# model_path_and_filename = '../models/first_UNET_input_shape_224x224x3.h5'\n",
    "# model = keras.models.load_model(model_path_and_filename)"
   ]
  },
  {
   "cell_type": "code",
   "execution_count": 26,
   "id": "e25dd7f8-54e6-4450-aa93-35ef45ee28cc",
   "metadata": {},
   "outputs": [],
   "source": [
    "from tensorflow.keras.layers import Input, Conv2D, MaxPooling2D, Activation, ReLU\n",
    "from tensorflow.keras.layers import BatchNormalization, Conv2DTranspose, Concatenate\n",
    "from tensorflow.keras.models import Model, Sequential\n",
    "from tensorflow.keras.utils import plot_model\n",
    "\n",
    "from tensorflow.keras.applications import VGG16\n",
    "\n",
    "\n",
    "\n",
    "\n",
    "class SMR_Model():\n",
    "    ''' creating our first lwb_smr models '''\n",
    "\n",
    "    def __init__(self, input_shape):\n",
    "        self.input_shape = input_shape\n",
    "\n",
    "    def get_latest_model(self):\n",
    "        model = self.build_vgg16_unet(self.input_shape)\n",
    "        model = self.compile_model(model)\n",
    "\n",
    "        return model\n",
    "\n",
    "    def convolution_block(self, inputs, num_filters):\n",
    "        ''' simple UNET convolution block with BatchNormalisation '''\n",
    "\n",
    "        # convolution layer 1 of the block\n",
    "        x = Conv2D(num_filters, (3,3), padding='same')(inputs)  # padding='same' to avoid cut-down with conv\n",
    "        x = BatchNormalization()(x)\n",
    "        x = Activation('relu')(x)\n",
    "\n",
    "        # convolution layer 2 of the block\n",
    "        x = Conv2D(num_filters, (3,3), padding='same')(x)\n",
    "        x = BatchNormalization()(x)\n",
    "        x = Activation('relu')(x)\n",
    "\n",
    "        # max pooling not used here as just the bridge\n",
    "\n",
    "        return x\n",
    "\n",
    "    def decoder_block(self, inputs, skip_tensor, num_filters):\n",
    "        ''' decoder block for UNET '''\n",
    "        # adds in the skips with concatenate\n",
    "        x = Conv2DTranspose(num_filters, (2,2), strides=2, padding='same')(inputs) # stride important here to up-sample\n",
    "        x = Concatenate()([x, skip_tensor])     # bringing in skip layer\n",
    "        x = self.convolution_block(x, num_filters)\n",
    "\n",
    "        return x\n",
    "\n",
    "    def build_vgg16_unet(self, input_shape):\n",
    "        ''' build vgg-16 '''\n",
    "\n",
    "        inputs = Input(input_shape)\n",
    "\n",
    "        # see actual VGG-16 here: https://github.com/keras-team/keras/blob/v2.9.0/keras/applications/vgg16.py#L43-L227\n",
    "        vgg16 = VGG16(include_top=False, weights='imagenet', input_tensor=inputs)\n",
    "        # vgg16.summary()\n",
    "        vgg16.trainable = False\n",
    "\n",
    "        ''' Encoder - skip layers '''\n",
    "        skip1 = vgg16.get_layer('block1_conv2').output #  256 x 256, 64 filters in vgg16\n",
    "        skip2 = vgg16.get_layer('block2_conv2').output #  128 x 128, 128 filters in vgg16\n",
    "        skip3 = vgg16.get_layer('block3_conv3').output #   64 x 64, 256 filters in vgg16\n",
    "        skip4 = vgg16.get_layer('block4_conv3').output #   32 x 32, 512 filters in vgg16\n",
    "        # display('skip4: ' + str(skip4.shape))\n",
    "\n",
    "        # only need to specify the skip layers, as VGG16 is an Encoder\n",
    "        # Therefore, VGG16 comes built with MaxPool2d, so we don't specify\n",
    "\n",
    "        ''' Bridge '''\n",
    "        bridge = vgg16.get_layer('block5_conv3').output # 16 x 16, with 512 filters in vgg16\n",
    "        # display('bridge: ' + str(bridge.shape))\n",
    "\n",
    "\n",
    "        ''' Decoder '''\n",
    "        d1 = self.decoder_block(bridge, skip4, 512) #  512 filters, as per the bridge\n",
    "        d2 = self.decoder_block(d1, skip3, 256) #  256 filters\n",
    "        d3 = self.decoder_block(d2, skip2, 128) #  128 filters\n",
    "        d4 = self.decoder_block(d3, skip1, 64)  #   64 filters\n",
    "\n",
    "        ''' Output '''\n",
    "        outputs = Conv2D(1, (1,1), padding='same', activation='sigmoid')(d4)\n",
    "\n",
    "        model = Model(inputs, outputs, name='first_VGG16_UNET')\n",
    "\n",
    "        return model\n",
    "\n",
    "    def compile_model(self, m):\n",
    "        ''' compile as a basic unet for now... first actual run '''\n",
    "        m.compile(\n",
    "            loss='binary_crossentropy',\n",
    "            optimizer='adam'\n",
    "        )\n",
    "        return m\n"
   ]
  },
  {
   "cell_type": "code",
   "execution_count": 37,
   "id": "897c2395-d9af-4567-b13e-e303b6aebfb4",
   "metadata": {},
   "outputs": [],
   "source": [
    "\n",
    "UNET_INPUT_SHAPE = (224,224,3)\n",
    "BATCH_SIZE = 60\n",
    "EPOCHS = 20"
   ]
  },
  {
   "cell_type": "markdown",
   "id": "70273942-fd90-47b3-a87d-ab4fab6f3f3c",
   "metadata": {},
   "source": [
    "# RECOMMENDATIONS FOR OVERNIGHT RUN:\n",
    "\n",
    "# epochs = 20\n"
   ]
  },
  {
   "cell_type": "code",
   "execution_count": 39,
   "id": "53cc3873-15fa-408b-a43f-ab148c5849f5",
   "metadata": {},
   "outputs": [
    {
     "data": {
      "text/plain": [
       "9.333333333333334"
      ]
     },
     "execution_count": 39,
     "metadata": {},
     "output_type": "execute_result"
    }
   ],
   "source": [
    "hours = (EPOCHS*28)/60\n",
    "hours"
   ]
  },
  {
   "cell_type": "code",
   "execution_count": 28,
   "id": "8ada91cf-9e5d-4a7d-9b8f-4220493a9adf",
   "metadata": {},
   "outputs": [],
   "source": [
    "getVGG16 = SMR_Model(UNET_INPUT_SHAPE)\n",
    "model = getVGG16.build_vgg16_unet(UNET_INPUT_SHAPE)"
   ]
  },
  {
   "cell_type": "code",
   "execution_count": 29,
   "id": "12ba11ec-71e7-4a84-a3dc-96ac49d16859",
   "metadata": {},
   "outputs": [],
   "source": [
    "# binaryIoU metric\n",
    "threshold = 0.5\n",
    "binaryIoU = tf.keras.metrics.BinaryIoU(target_class_ids=[1], threshold=threshold)\n",
    "AUC = tf.keras.metrics.AUC()\n",
    "\n",
    "# Compile Model\n",
    "model.compile(\n",
    "        loss='binary_crossentropy',\n",
    "        optimizer='adam',\n",
    "        metrics=['accuracy', binaryIoU, AUC]\n",
    "        )\n",
    "\n",
    "mc = ModelCheckpoint('../checkpoints/oxford_segmentation.h5', save_best_only=True) # could put path here\n",
    "es = EarlyStopping(patience=5, restore_best_weights=True)\n",
    "self.model.fit(\n",
    "    ds_train,\n",
    "    validation_data=ds_val,\n",
    "    batch_size=60,\n",
    "    epochs=EPOCHS,\n",
    "    callbacks=[mc, es]\n",
    "    )\n",
    "\n",
    "model_path_and_filename = '../models/220609_15epoch_tensor_slices_UNET_input_shape_224x224x3.h5'\n",
    "model.save(model_path_and_filename)"
   ]
  },
  {
   "cell_type": "code",
   "execution_count": null,
   "id": "1ef10772-ca51-40e4-8caa-6313ea281ef8",
   "metadata": {},
   "outputs": [],
   "source": [
    "# model.fit(\n",
    "#     ds_train,\n",
    "#     epochs=2,\n",
    "#     batch_size=60,\n",
    "#     validation_data=ds_val\n",
    "# )\n"
   ]
  },
  {
   "cell_type": "code",
   "execution_count": null,
   "id": "8e05ad2b-0b73-43e5-b3d2-d204f2263e6a",
   "metadata": {},
   "outputs": [],
   "source": []
  }
 ],
 "metadata": {
  "environment": {
   "kernel": "python3",
   "name": "tf2-gpu.2-8.m93",
   "type": "gcloud",
   "uri": "gcr.io/deeplearning-platform-release/tf2-gpu.2-8:m93"
  },
  "kernelspec": {
   "display_name": "Python 3",
   "language": "python",
   "name": "python3"
  },
  "language_info": {
   "codemirror_mode": {
    "name": "ipython",
    "version": 3
   },
   "file_extension": ".py",
   "mimetype": "text/x-python",
   "name": "python",
   "nbconvert_exporter": "python",
   "pygments_lexer": "ipython3",
   "version": "3.7.12"
  }
 },
 "nbformat": 4,
 "nbformat_minor": 5
}
