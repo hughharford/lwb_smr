{
 "cells": [
  {
   "cell_type": "code",
   "execution_count": 1,
   "id": "4dae10ea-3bb0-4a05-ba9c-e9cf30e63941",
   "metadata": {},
   "outputs": [
    {
     "name": "stderr",
     "output_type": "stream",
     "text": [
      "2022-06-09 15:39:37.337288: W tensorflow/stream_executor/platform/default/dso_loader.cc:64] Could not load dynamic library 'libcudart.so.11.0'; dlerror: libcudart.so.11.0: cannot open shared object file: No such file or directory\n",
      "2022-06-09 15:39:37.337335: I tensorflow/stream_executor/cuda/cudart_stub.cc:29] Ignore above cudart dlerror if you do not have a GPU set up on your machine.\n"
     ]
    }
   ],
   "source": [
    "import tensorflow as tf"
   ]
  },
  {
   "cell_type": "code",
   "execution_count": 22,
   "id": "9e676f5a-f4ce-4208-acfb-681878a8c7af",
   "metadata": {},
   "outputs": [],
   "source": [
    "# iou = true_positives / (true_positives + false_positives + false_negatives)\n",
    "\n",
    "\n",
    "# threshold = 0.3 is low, but sensible\n",
    "threshold = 0.5"
   ]
  },
  {
   "cell_type": "code",
   "execution_count": 24,
   "id": "3f553ef5-e828-4e40-a467-dd25d56a6cf3",
   "metadata": {},
   "outputs": [
    {
     "data": {
      "text/plain": [
       "0.5833334"
      ]
     },
     "execution_count": 24,
     "metadata": {},
     "output_type": "execute_result"
    }
   ],
   "source": [
    "binaryIoU = tf.keras.metrics.BinaryIoU(target_class_ids=[0, 1], threshold=threshold)\n",
    "target = [0, 1, 0, 1]\n",
    "prediction = [0.1, 0.2, 0.4, 0.7]\n",
    "binaryIoU.update_state(target, prediction)\n",
    "binaryIoU.result().numpy()\n",
    "\n"
   ]
  },
  {
   "cell_type": "code",
   "execution_count": null,
   "id": "6a6cac67-c5c4-42db-92d6-e859cd4f2dac",
   "metadata": {},
   "outputs": [],
   "source": []
  }
 ],
 "metadata": {
  "kernelspec": {
   "display_name": "Python 3 (ipykernel)",
   "language": "python",
   "name": "python3"
  },
  "language_info": {
   "codemirror_mode": {
    "name": "ipython",
    "version": 3
   },
   "file_extension": ".py",
   "mimetype": "text/x-python",
   "name": "python",
   "nbconvert_exporter": "python",
   "pygments_lexer": "ipython3",
   "version": "3.8.12"
  }
 },
 "nbformat": 4,
 "nbformat_minor": 5
}
