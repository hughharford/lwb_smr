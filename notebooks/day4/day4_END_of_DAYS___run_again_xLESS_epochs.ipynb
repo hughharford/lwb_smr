{
 "cells": [
  {
   "cell_type": "code",
   "execution_count": 1,
   "id": "2a4d1873-5aeb-4d2a-98b9-a520fe9959ad",
   "metadata": {},
   "outputs": [],
   "source": [
    "import os\n",
    "import glob\n",
    "import pandas as pd"
   ]
  },
  {
   "cell_type": "code",
   "execution_count": 2,
   "id": "1766ec80-8735-4373-89a8-adb75d884c44",
   "metadata": {},
   "outputs": [],
   "source": [
    "x_path = '../raw_data/train_RGB_tiles_jpeg/'\n",
    "x_images = os.listdir(x_path)\n",
    "y_path = '../raw_data/train_mask_tiles_jpeg/'\n",
    "y_masks = os.listdir(y_path)\n",
    "        "
   ]
  },
  {
   "cell_type": "code",
   "execution_count": 3,
   "id": "c90ad06d-b59b-4d37-bea2-4532143c619f",
   "metadata": {},
   "outputs": [
    {
     "data": {
      "text/plain": [
       "['../raw_data/train_RGB_tiles_jpeg', '../raw_data/train_mask_tiles_jpeg']"
      ]
     },
     "execution_count": 3,
     "metadata": {},
     "output_type": "execute_result"
    }
   ],
   "source": [
    "root_path = '../raw_data/'\n",
    "folders = ['train_RGB_tiles_jpeg', 'train_mask_tiles_jpeg']\n",
    "folder_path = [f'{root_path}{folder}' for folder in folders]\n",
    "folder_path"
   ]
  },
  {
   "cell_type": "code",
   "execution_count": 4,
   "id": "c6602b9c-c60b-44cf-b3fd-328bed25ac3d",
   "metadata": {},
   "outputs": [],
   "source": [
    "train_images, train_mask = [], []\n",
    "train_images =[f'../raw_data/train_RGB_tiles_jpeg/{filename}' for filename in os.listdir(folder_path[0])]\n",
    "train_mask = [f'../raw_data/train_mask_tiles_jpeg/{filename}' for filename in os.listdir(folder_path[1])]"
   ]
  },
  {
   "cell_type": "code",
   "execution_count": 5,
   "id": "938610a4-5bcb-445a-9f38-b25073cc27f5",
   "metadata": {},
   "outputs": [],
   "source": [
    "train_images.sort()\n",
    "train_mask.sort()"
   ]
  },
  {
   "cell_type": "code",
   "execution_count": 6,
   "id": "71787c59-e8dc-491a-9873-76886ec4ede1",
   "metadata": {},
   "outputs": [
    {
     "data": {
      "text/html": [
       "<div>\n",
       "<style scoped>\n",
       "    .dataframe tbody tr th:only-of-type {\n",
       "        vertical-align: middle;\n",
       "    }\n",
       "\n",
       "    .dataframe tbody tr th {\n",
       "        vertical-align: top;\n",
       "    }\n",
       "\n",
       "    .dataframe thead th {\n",
       "        text-align: right;\n",
       "    }\n",
       "</style>\n",
       "<table border=\"1\" class=\"dataframe\">\n",
       "  <thead>\n",
       "    <tr style=\"text-align: right;\">\n",
       "      <th></th>\n",
       "      <th>image_path</th>\n",
       "      <th>mask_path</th>\n",
       "    </tr>\n",
       "  </thead>\n",
       "  <tbody>\n",
       "    <tr>\n",
       "      <th>0</th>\n",
       "      <td>../raw_data/train_RGB_tiles_jpeg/austin10_x00_...</td>\n",
       "      <td>../raw_data/train_mask_tiles_jpeg/austin10_mas...</td>\n",
       "    </tr>\n",
       "    <tr>\n",
       "      <th>1</th>\n",
       "      <td>../raw_data/train_RGB_tiles_jpeg/austin10_x00_...</td>\n",
       "      <td>../raw_data/train_mask_tiles_jpeg/austin10_mas...</td>\n",
       "    </tr>\n",
       "    <tr>\n",
       "      <th>2</th>\n",
       "      <td>../raw_data/train_RGB_tiles_jpeg/austin10_x00_...</td>\n",
       "      <td>../raw_data/train_mask_tiles_jpeg/austin10_mas...</td>\n",
       "    </tr>\n",
       "    <tr>\n",
       "      <th>3</th>\n",
       "      <td>../raw_data/train_RGB_tiles_jpeg/austin10_x00_...</td>\n",
       "      <td>../raw_data/train_mask_tiles_jpeg/austin10_mas...</td>\n",
       "    </tr>\n",
       "    <tr>\n",
       "      <th>4</th>\n",
       "      <td>../raw_data/train_RGB_tiles_jpeg/austin10_x00_...</td>\n",
       "      <td>../raw_data/train_mask_tiles_jpeg/austin10_mas...</td>\n",
       "    </tr>\n",
       "  </tbody>\n",
       "</table>\n",
       "</div>"
      ],
      "text/plain": [
       "                                          image_path  \\\n",
       "0  ../raw_data/train_RGB_tiles_jpeg/austin10_x00_...   \n",
       "1  ../raw_data/train_RGB_tiles_jpeg/austin10_x00_...   \n",
       "2  ../raw_data/train_RGB_tiles_jpeg/austin10_x00_...   \n",
       "3  ../raw_data/train_RGB_tiles_jpeg/austin10_x00_...   \n",
       "4  ../raw_data/train_RGB_tiles_jpeg/austin10_x00_...   \n",
       "\n",
       "                                           mask_path  \n",
       "0  ../raw_data/train_mask_tiles_jpeg/austin10_mas...  \n",
       "1  ../raw_data/train_mask_tiles_jpeg/austin10_mas...  \n",
       "2  ../raw_data/train_mask_tiles_jpeg/austin10_mas...  \n",
       "3  ../raw_data/train_mask_tiles_jpeg/austin10_mas...  \n",
       "4  ../raw_data/train_mask_tiles_jpeg/austin10_mas...  "
      ]
     },
     "execution_count": 6,
     "metadata": {},
     "output_type": "execute_result"
    }
   ],
   "source": [
    "train_df = pd.DataFrame()\n",
    "# train_df['file_path'] = train_images\n",
    "train_df['image_path'] = train_images\n",
    "train_df['mask_path'] = train_mask\n",
    "\n",
    "train_df.head()"
   ]
  },
  {
   "cell_type": "code",
   "execution_count": 7,
   "id": "7f0cfe99-93e7-4c0c-b082-6cb0aff1aa20",
   "metadata": {},
   "outputs": [
    {
     "name": "stderr",
     "output_type": "stream",
     "text": [
      "2022-06-09 22:30:54.404642: W tensorflow/stream_executor/platform/default/dso_loader.cc:64] Could not load dynamic library 'libcudart.so.11.0'; dlerror: libcudart.so.11.0: cannot open shared object file: No such file or directory\n",
      "2022-06-09 22:30:54.404660: I tensorflow/stream_executor/cuda/cudart_stub.cc:29] Ignore above cudart dlerror if you do not have a GPU set up on your machine.\n"
     ]
    }
   ],
   "source": [
    "import tensorflow as tf\n",
    "from sklearn.model_selection import train_test_split\n",
    "\n",
    "def holdout(df, train_ratio=0.7, test_to_val_ratio=(0.05/0.3), include_all=False):\n",
    "\n",
    "    img_paths = df[\"image_path\"].values\n",
    "    msk_paths = df[\"mask_path\"].values\n",
    "\n",
    "    df_mask = df.copy()\n",
    "\n",
    "    df_train, df_val = train_test_split(df_mask, train_size=train_ratio)\n",
    "    df_test, df_val = train_test_split(df_val, test_size=test_to_val_ratio)\n",
    "\n",
    "    ds_train = tf.data.Dataset.from_tensor_slices(\n",
    "         (df_train[\"image_path\"].values, df_train[\"mask_path\"].values)\n",
    "    )\n",
    "    ds_val = tf.data.Dataset.from_tensor_slices(\n",
    "        (df_val[\"image_path\"].values, df_val[\"mask_path\"].values)\n",
    "    )\n",
    "    ds_test = tf.data.Dataset.from_tensor_slices(\n",
    "        (df_test[\"image_path\"].values, df_test[\"mask_path\"].values)\n",
    "    )\n",
    "\n",
    "    return ds_train, ds_val, ds_test"
   ]
  },
  {
   "cell_type": "code",
   "execution_count": 8,
   "id": "47ec9abf-9cc5-4baa-b434-5ce1d677d03a",
   "metadata": {},
   "outputs": [
    {
     "name": "stderr",
     "output_type": "stream",
     "text": [
      "2022-06-09 22:30:56.942710: W tensorflow/stream_executor/platform/default/dso_loader.cc:64] Could not load dynamic library 'libcuda.so.1'; dlerror: libcuda.so.1: cannot open shared object file: No such file or directory\n",
      "2022-06-09 22:30:56.942744: W tensorflow/stream_executor/cuda/cuda_driver.cc:269] failed call to cuInit: UNKNOWN ERROR (303)\n",
      "2022-06-09 22:30:56.942772: I tensorflow/stream_executor/cuda/cuda_diagnostics.cc:156] kernel driver does not appear to be running on this host (hsth-ThinkPad-2nd): /proc/driver/nvidia/version does not exist\n",
      "2022-06-09 22:30:56.944023: I tensorflow/core/platform/cpu_feature_guard.cc:193] This TensorFlow binary is optimized with oneAPI Deep Neural Network Library (oneDNN) to use the following CPU instructions in performance-critical operations:  AVX2 FMA\n",
      "To enable them in other operations, rebuild TensorFlow with the appropriate compiler flags.\n"
     ]
    }
   ],
   "source": [
    "ds_train, ds_val, ds_test = holdout(train_df)"
   ]
  },
  {
   "cell_type": "code",
   "execution_count": 9,
   "id": "e8814502-f5b5-4c8b-974d-52d5052dfc04",
   "metadata": {},
   "outputs": [],
   "source": [
    "def process_path(input_path, mask_path):\n",
    "    \"\"\"\n",
    "    Load images from files.\n",
    "    :input_path: the path to the satellite file\n",
    "    :mask_path: the path to the mask file\n",
    "    :return: The image and mask\n",
    "    .. note:: Works with jpg images \n",
    "              Only the first channel is kept for the mask\n",
    "    \"\"\"\n",
    "    \n",
    "    IMAGE_SQ_SIZE = 224\n",
    "\n",
    "    input_img = tf.io.read_file(input_path)   \n",
    "    input_img = tf.io.decode_jpeg(input_img, channels=3)\n",
    "    input_img =  tf.image.resize(input_img, [IMAGE_SQ_SIZE, IMAGE_SQ_SIZE])\n",
    "\n",
    "    mask_img = tf.io.read_file(mask_path)   \n",
    "    mask_img = tf.io.decode_jpeg(mask_img, channels=1)\n",
    "    mask_img =  tf.image.resize(mask_img, [IMAGE_SQ_SIZE, IMAGE_SQ_SIZE])\n",
    "\n",
    "   \n",
    "    return input_img, mask_img"
   ]
  },
  {
   "cell_type": "code",
   "execution_count": 10,
   "id": "bad25685-9adf-4d55-a923-6ca3fc08f78c",
   "metadata": {},
   "outputs": [],
   "source": [
    "def normalize(image, mask):\n",
    "    # image = tf.cast(image, tf.float32) / 255.\n",
    "\n",
    "    return tf.math.divide(image, 255), tf.math.divide(mask, 255) "
   ]
  },
  {
   "cell_type": "code",
   "execution_count": 11,
   "id": "682c394a-c56a-4b04-b382-f5b09d884d5e",
   "metadata": {},
   "outputs": [],
   "source": [
    "AUTOTUNE = tf.data.experimental.AUTOTUNE\n",
    "\n",
    "ds_train = ds_train.map(process_path) \\\n",
    ".map(normalize) \\\n",
    ".batch(batch_size=60) \\\n",
    ".prefetch(buffer_size=AUTOTUNE)"
   ]
  },
  {
   "cell_type": "code",
   "execution_count": 12,
   "id": "742aa354-d5fc-451a-9ac3-7c0ed0698739",
   "metadata": {},
   "outputs": [],
   "source": [
    "from tensorflow import keras\n",
    "import tensorflow as tf\n",
    "\n",
    "# model_path_and_filename = '../models/first_UNET_input_shape_224x224x3.h5'\n",
    "# model = keras.models.load_model(model_path_and_filename)\n",
    "\n",
    "from tensorflow.keras.layers import Input, Conv2D, MaxPooling2D, Activation, ReLU\n",
    "from tensorflow.keras.layers import BatchNormalization, Conv2DTranspose, Concatenate\n",
    "from tensorflow.keras.models import Model, Sequential\n",
    "from tensorflow.keras.utils import plot_model\n",
    "\n",
    "from tensorflow.keras.applications import VGG16\n",
    "\n",
    "from tensorflow.keras.callbacks import EarlyStopping, ModelCheckpoint\n",
    "from tensorflow.keras.optimizers import Adam\n",
    "from tensorflow.keras.metrics import AUC, IoU\n",
    "\n",
    "\n",
    "\n",
    "class SMR_Model():\n",
    "    ''' creating our first lwb_smr models '''\n",
    "\n",
    "    def __init__(self, input_shape):\n",
    "        self.input_shape = input_shape\n",
    "\n",
    "    def get_latest_model(self):\n",
    "        model = self.build_vgg16_unet(self.input_shape)\n",
    "        model = self.compile_model(model)\n",
    "\n",
    "        return model\n",
    "\n",
    "    def convolution_block(self, inputs, num_filters):\n",
    "        ''' simple UNET convolution block with BatchNormalisation '''\n",
    "\n",
    "        # convolution layer 1 of the block\n",
    "        x = Conv2D(num_filters, (3,3), padding='same')(inputs)  # padding='same' to avoid cut-down with conv\n",
    "        x = BatchNormalization()(x)\n",
    "        x = Activation('relu')(x)\n",
    "\n",
    "        # convolution layer 2 of the block\n",
    "        x = Conv2D(num_filters, (3,3), padding='same')(x)\n",
    "        x = BatchNormalization()(x)\n",
    "        x = Activation('relu')(x)\n",
    "\n",
    "        # max pooling not used here as just the bridge\n",
    "\n",
    "        return x\n",
    "\n",
    "    def decoder_block(self, inputs, skip_tensor, num_filters):\n",
    "        ''' decoder block for UNET '''\n",
    "        # adds in the skips with concatenate\n",
    "        x = Conv2DTranspose(num_filters, (2,2), strides=2, padding='same')(inputs) # stride important here to up-sample\n",
    "        x = Concatenate()([x, skip_tensor])     # bringing in skip layer\n",
    "        x = self.convolution_block(x, num_filters)\n",
    "\n",
    "        return x\n",
    "\n",
    "    def build_vgg16_unet(self, input_shape):\n",
    "        ''' build vgg-16 '''\n",
    "\n",
    "        inputs = Input(input_shape)\n",
    "\n",
    "        # see actual VGG-16 here: https://github.com/keras-team/keras/blob/v2.9.0/keras/applications/vgg16.py#L43-L227\n",
    "        vgg16 = VGG16(include_top=False, weights='imagenet', input_tensor=inputs)\n",
    "        # vgg16.summary()\n",
    "        vgg16.trainable = False\n",
    "\n",
    "        ''' Encoder - skip layers '''\n",
    "        skip1 = vgg16.get_layer('block1_conv2').output #  256 x 256, 64 filters in vgg16\n",
    "        skip2 = vgg16.get_layer('block2_conv2').output #  128 x 128, 128 filters in vgg16\n",
    "        skip3 = vgg16.get_layer('block3_conv3').output #   64 x 64, 256 filters in vgg16\n",
    "        skip4 = vgg16.get_layer('block4_conv3').output #   32 x 32, 512 filters in vgg16\n",
    "        # display('skip4: ' + str(skip4.shape))\n",
    "\n",
    "        # only need to specify the skip layers, as VGG16 is an Encoder\n",
    "        # Therefore, VGG16 comes built with MaxPool2d, so we don't specify\n",
    "\n",
    "        ''' Bridge '''\n",
    "        bridge = vgg16.get_layer('block5_conv3').output # 16 x 16, with 512 filters in vgg16\n",
    "        # display('bridge: ' + str(bridge.shape))\n",
    "\n",
    "\n",
    "        ''' Decoder '''\n",
    "        d1 = self.decoder_block(bridge, skip4, 512) #  512 filters, as per the bridge\n",
    "        d2 = self.decoder_block(d1, skip3, 256) #  256 filters\n",
    "        d3 = self.decoder_block(d2, skip2, 128) #  128 filters\n",
    "        d4 = self.decoder_block(d3, skip1, 64)  #   64 filters\n",
    "\n",
    "        ''' Output '''\n",
    "        outputs = Conv2D(1, (1,1), padding='same', activation='sigmoid')(d4)\n",
    "\n",
    "        model = Model(inputs, outputs, name='first_VGG16_UNET')\n",
    "\n",
    "        return model\n",
    "\n",
    "    def compile_model(self, m):\n",
    "        ''' compile as a basic unet for now... first actual run '''\n",
    "        m.compile(\n",
    "            loss='binary_crossentropy',\n",
    "            optimizer='adam'\n",
    "        )\n",
    "        return m"
   ]
  },
  {
   "cell_type": "code",
   "execution_count": 13,
   "id": "ec1ddace-0a82-4dbe-b0d5-f9e58b98827f",
   "metadata": {},
   "outputs": [],
   "source": [
    "UNET_INPUT_SHAPE = (224,224,3)\n",
    "BATCH_SIZE = 8\n",
    "EPOCHS = 2"
   ]
  },
  {
   "cell_type": "code",
   "execution_count": 14,
   "id": "698bca66-686a-4e41-8f8d-f2e3a5cc29ed",
   "metadata": {},
   "outputs": [],
   "source": [
    "# RECOMMENDATIONS FOR OVERNIGHT RUN:\n",
    "\n",
    "# epochs = 5 (local) "
   ]
  },
  {
   "cell_type": "code",
   "execution_count": 16,
   "id": "8362316d-5ff6-4bb7-a5b2-a528b09cb187",
   "metadata": {},
   "outputs": [],
   "source": [
    "# x = ??? locally\n",
    "# hours = (EPOCHS*x)/60\n",
    "# hours"
   ]
  },
  {
   "cell_type": "code",
   "execution_count": 17,
   "id": "619f1571-5fe9-40c1-85b6-7c81d4b47f9a",
   "metadata": {},
   "outputs": [],
   "source": [
    "getVGG16 = SMR_Model(UNET_INPUT_SHAPE)\n",
    "model = getVGG16.build_vgg16_unet(UNET_INPUT_SHAPE)"
   ]
  },
  {
   "cell_type": "code",
   "execution_count": 18,
   "id": "d5af4450-6661-49ab-8b44-d8b1089d2389",
   "metadata": {},
   "outputs": [],
   "source": [
    "# binaryIoU metric\n",
    "threshold = 0.5\n",
    "binaryIoU = tf.keras.metrics.BinaryIoU(target_class_ids=[1], threshold=threshold)\n",
    "AUC = tf.keras.metrics.AUC()\n",
    "\n",
    "# Compile Model\n",
    "model.compile(\n",
    "        loss='binary_crossentropy',\n",
    "        optimizer='adam',\n",
    "        metrics=['accuracy', binaryIoU, AUC]\n",
    "        )\n",
    "\n",
    "model_path_and_filename = '../models/220609_v6_UNET_input_shape_224x224x3.h5'\n",
    "model.save(model_path_and_filename)"
   ]
  },
  {
   "cell_type": "code",
   "execution_count": null,
   "id": "9c06f314-163b-4407-99ef-d0bbe1fd2c2d",
   "metadata": {},
   "outputs": [
    {
     "name": "stdout",
     "output_type": "stream",
     "text": [
      "Epoch 1/2\n"
     ]
    },
    {
     "name": "stderr",
     "output_type": "stream",
     "text": [
      "2022-06-09 22:31:19.797895: W tensorflow/core/framework/cpu_allocator_impl.cc:82] Allocation of 770703360 exceeds 10% of free system memory.\n",
      "2022-06-09 22:31:20.228455: W tensorflow/core/framework/cpu_allocator_impl.cc:82] Allocation of 770703360 exceeds 10% of free system memory.\n",
      "2022-06-09 22:31:21.934097: W tensorflow/core/framework/cpu_allocator_impl.cc:82] Allocation of 385351680 exceeds 10% of free system memory.\n",
      "2022-06-09 22:31:22.737430: W tensorflow/core/framework/cpu_allocator_impl.cc:82] Allocation of 385351680 exceeds 10% of free system memory.\n",
      "2022-06-09 22:31:37.145165: W tensorflow/core/framework/cpu_allocator_impl.cc:82] Allocation of 385351680 exceeds 10% of free system memory.\n"
     ]
    }
   ],
   "source": [
    "mc = ModelCheckpoint('../checkpoints/oxford_segmentation.h5', save_best_only=True) # could put path here\n",
    "es = EarlyStopping(patience=5, restore_best_weights=True)\n",
    "model.fit(\n",
    "    ds_train,\n",
    "    validation_data=ds_val,\n",
    "    batch_size=BATCH_SIZE,\n",
    "    epochs=EPOCHS,\n",
    "    callbacks=[mc, es]\n",
    "    )\n",
    "\n",
    "model_path_and_filename = '../models/220609_5epoch_LOCAL_UNET_input_shape_224x224x3.h5'\n",
    "model.save(model_path_and_filename)\n"
   ]
  },
  {
   "cell_type": "code",
   "execution_count": null,
   "id": "e73c2078-cb30-4c1a-aa8a-58d424a5e50b",
   "metadata": {},
   "outputs": [],
   "source": []
  }
 ],
 "metadata": {
  "kernelspec": {
   "display_name": "Python 3 (ipykernel)",
   "language": "python",
   "name": "python3"
  },
  "language_info": {
   "codemirror_mode": {
    "name": "ipython",
    "version": 3
   },
   "file_extension": ".py",
   "mimetype": "text/x-python",
   "name": "python",
   "nbconvert_exporter": "python",
   "pygments_lexer": "ipython3",
   "version": "3.8.12"
  }
 },
 "nbformat": 4,
 "nbformat_minor": 5
}
