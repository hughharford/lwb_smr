{
 "cells": [
  {
   "cell_type": "code",
   "execution_count": 1,
   "id": "a9030225-fbae-4632-a523-0318ae7ccd56",
   "metadata": {},
   "outputs": [],
   "source": [
    "%load_ext autoreload\n",
    "%autoreload 2"
   ]
  },
  {
   "cell_type": "code",
   "execution_count": 2,
   "id": "7d67910a-bb63-4b32-90ad-05dd8626dc63",
   "metadata": {},
   "outputs": [],
   "source": [
    "import numpy as np\n",
    "import pandas as pd\n",
    "import os"
   ]
  },
  {
   "cell_type": "code",
   "execution_count": 4,
   "id": "2b5c1074-496e-48f0-9453-afb0458188d5",
   "metadata": {},
   "outputs": [
    {
     "name": "stderr",
     "output_type": "stream",
     "text": [
      "2022-06-14 06:19:47.677460: W tensorflow/stream_executor/platform/default/dso_loader.cc:64] Could not load dynamic library 'libcudart.so.11.0'; dlerror: libcudart.so.11.0: cannot open shared object file: No such file or directory\n",
      "2022-06-14 06:19:47.677499: I tensorflow/stream_executor/cuda/cudart_stub.cc:29] Ignore above cudart dlerror if you do not have a GPU set up on your machine.\n"
     ]
    }
   ],
   "source": [
    "from lwb_smr.data import GetData, LoadDataSets\n",
    "from lwb_smr.custom_data_loader import CustomDataLoader"
   ]
  },
  {
   "cell_type": "code",
   "execution_count": 11,
   "id": "3d3f9bbb-7673-40a0-9a3c-096a0749fef8",
   "metadata": {},
   "outputs": [
    {
     "name": "stdout",
     "output_type": "stream",
     "text": [
      "AerialImageDataset\t    ex\t\t\t    tiles\n",
      "checkpoints\t\t    image_datasets_csv\t    train_mask_tiles_jpeg\n",
      "data_samples\t\t    image_datasets_csv.zip  train_RGB_tiles_jpeg\n",
      "data_samples.zip\t    london\t\t    x_pred\n",
      "data_vertex_data_jpegs.zip  models\n"
     ]
    }
   ],
   "source": [
    "!ls \"../raw_data/\""
   ]
  },
  {
   "cell_type": "code",
   "execution_count": 14,
   "id": "e179e06c-b2c2-45d1-bec9-f856f47db43a",
   "metadata": {},
   "outputs": [],
   "source": [
    "###########################\n",
    "# GetDat input parameters #\n",
    "###########################\n",
    "\n",
    "train_path = \"../raw_data/train_RGB_tiles_jpeg/\"\n",
    "mask_path = \"../raw_data/train_mask_tiles_jpeg/\"\n",
    "input_image_size = (250,250)\n",
    "train_percent = 0.7\n",
    "validation_percent = 0.25\n",
    "test_percent = 0.05"
   ]
  },
  {
   "cell_type": "code",
   "execution_count": 15,
   "id": "1f271366-bf27-410e-afd4-ffbaef3abde7",
   "metadata": {},
   "outputs": [
    {
     "name": "stdout",
     "output_type": "stream",
     "text": [
      "Datasets match, proceed\n"
     ]
    },
    {
     "data": {
      "text/plain": [
       "dict_keys(['train_x', 'train_y', 'val_x', 'val_y', 'test_x', 'test_y'])"
      ]
     },
     "execution_count": 15,
     "metadata": {},
     "output_type": "execute_result"
    }
   ],
   "source": [
    "dataset = GetData(train_path,mask_path,train_percent,validation_percent,test_percent)\n",
    "data_dict = dataset.get_datasets()\n",
    "data_dict.keys()"
   ]
  },
  {
   "cell_type": "code",
   "execution_count": 90,
   "id": "295ffe4d-8fda-447d-b2fa-8c2b1aea00f6",
   "metadata": {},
   "outputs": [],
   "source": [
    "# dataset_save_path = \"../../raw_data/saved_dataset_csvs/jk_090622/\""
   ]
  },
  {
   "cell_type": "code",
   "execution_count": 7,
   "id": "28563beb-404d-4117-99f8-dd2bb48182a5",
   "metadata": {},
   "outputs": [],
   "source": [
    "dataset.save_datasets(dataset_save_path)"
   ]
  },
  {
   "cell_type": "code",
   "execution_count": 88,
   "id": "a989f5ec-ab2d-4f66-8ca7-f4b8d0f5da54",
   "metadata": {},
   "outputs": [
    {
     "name": "stdout",
     "output_type": "stream",
     "text": [
      "840 300 60 1200\n"
     ]
    }
   ],
   "source": [
    "# check lengths and sums are ok\n",
    "print(len(data_dict['train_x']),len(data_dict['val_x']),len(data_dict['test_x']),len(data_dict['train_x'])+len(data_dict['val_x'])+len(data_dict['test_x']))"
   ]
  },
  {
   "cell_type": "code",
   "execution_count": 89,
   "id": "5b8e8c1a-df1f-4fe9-ad62-3735ca479698",
   "metadata": {},
   "outputs": [
    {
     "data": {
      "text/plain": [
       "['austin3_x18_y18.tif', 'austin3_x03_y05.tif', 'austin1_x05_y01.tif']"
      ]
     },
     "execution_count": 89,
     "metadata": {},
     "output_type": "execute_result"
    }
   ],
   "source": [
    "data_dict['train_x'][0:3]"
   ]
  },
  {
   "cell_type": "code",
   "execution_count": null,
   "id": "91e98c68-eaf2-4675-8097-dbb6feed4d46",
   "metadata": {},
   "outputs": [],
   "source": [
    "datagen_train = CustomDataLoader(data_dict['train_x'][0:3],xpath,\n",
    "                                )"
   ]
  }
 ],
 "metadata": {
  "environment": {
   "kernel": "python3",
   "name": "tf2-gpu.2-8.m93",
   "type": "gcloud",
   "uri": "gcr.io/deeplearning-platform-release/tf2-gpu.2-8:m93"
  },
  "kernelspec": {
   "display_name": "Python 3 (ipykernel)",
   "language": "python",
   "name": "python3"
  },
  "language_info": {
   "codemirror_mode": {
    "name": "ipython",
    "version": 3
   },
   "file_extension": ".py",
   "mimetype": "text/x-python",
   "name": "python",
   "nbconvert_exporter": "python",
   "pygments_lexer": "ipython3",
   "version": "3.8.12"
  }
 },
 "nbformat": 4,
 "nbformat_minor": 5
}
