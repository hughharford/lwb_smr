{
 "cells": [
  {
   "cell_type": "code",
   "execution_count": 2,
   "id": "3071d616-5395-42db-967c-96027b6d9ca7",
   "metadata": {},
   "outputs": [],
   "source": [
    "%load_ext autoreload\n",
    "%autoreload 2"
   ]
  },
  {
   "cell_type": "code",
   "execution_count": 3,
   "id": "43f1a4de-586b-4031-a2d0-fcaa5468e94e",
   "metadata": {},
   "outputs": [
    {
     "name": "stderr",
     "output_type": "stream",
     "text": [
      "2022-06-10 12:27:03.281040: W tensorflow/stream_executor/platform/default/dso_loader.cc:64] Could not load dynamic library 'libcudart.so.11.0'; dlerror: libcudart.so.11.0: cannot open shared object file: No such file or directory\n",
      "2022-06-10 12:27:03.281062: I tensorflow/stream_executor/cuda/cudart_stub.cc:29] Ignore above cudart dlerror if you do not have a GPU set up on your machine.\n"
     ]
    }
   ],
   "source": [
    "import numpy as np\n",
    "import pandas as pd\n",
    "import os\n",
    "from lwb_smr.data import GetData, LoadDataSets\n",
    "from lwb_smr.CustomDataLoader import CustomDataLoader"
   ]
  },
  {
   "cell_type": "code",
   "execution_count": 1,
   "id": "804ea3c6-cf88-4ae6-ac81-d192df27d46f",
   "metadata": {},
   "outputs": [
    {
     "name": "stderr",
     "output_type": "stream",
     "text": [
      "2022-06-10 12:29:10.429924: W tensorflow/stream_executor/platform/default/dso_loader.cc:64] Could not load dynamic library 'libcudart.so.11.0'; dlerror: libcudart.so.11.0: cannot open shared object file: No such file or directory\n",
      "2022-06-10 12:29:10.429947: I tensorflow/stream_executor/cuda/cudart_stub.cc:29] Ignore above cudart dlerror if you do not have a GPU set up on your machine.\n"
     ]
    }
   ],
   "source": [
    "from lwb_smr.trainer import Trainer"
   ]
  },
  {
   "cell_type": "code",
   "execution_count": 2,
   "id": "395e2cfe-7fa6-49eb-b69e-9cd67093e72d",
   "metadata": {},
   "outputs": [
    {
     "ename": "SyntaxError",
     "evalue": "invalid syntax (params.py, line 12)",
     "output_type": "error",
     "traceback": [
      "Traceback \u001b[0;36m(most recent call last)\u001b[0m:\n",
      "  File \u001b[1;32m\"/home/hsth/.pyenv/versions/3.8.12/envs/lewagon/lib/python3.8/site-packages/IPython/core/interactiveshell.py\"\u001b[0m, line \u001b[1;32m3457\u001b[0m, in \u001b[1;35mrun_code\u001b[0m\n    exec(code_obj, self.user_global_ns, self.user_ns)\n",
      "  File \u001b[1;32m\"/tmp/ipykernel_1113419/1146661664.py\"\u001b[0m, line \u001b[1;32m1\u001b[0m, in \u001b[1;35m<module>\u001b[0m\n    from lwb_smr.test_trainer import Test_Trainer\n",
      "  File \u001b[1;32m\"/home/hsth/.pyenv/versions/3.8.12/envs/lewagon/lib/python3.8/site-packages/lwb_smr/test_trainer.py\"\u001b[0m, line \u001b[1;32m13\u001b[0m, in \u001b[1;35m<module>\u001b[0m\n    from lwb_smr.utils_class.MLFlowPush import PushMLFlow\n",
      "\u001b[0;36m  File \u001b[0;32m\"/home/hsth/.pyenv/versions/3.8.12/envs/lewagon/lib/python3.8/site-packages/lwb_smr/utils_class/MLFlowPush.py\"\u001b[0;36m, line \u001b[0;32m6\u001b[0;36m, in \u001b[0;35m<module>\u001b[0;36m\u001b[0m\n\u001b[0;31m    from lwb_smr.params import MLFLOW_URI\u001b[0m\n",
      "\u001b[0;36m  File \u001b[0;32m\"/home/hsth/.pyenv/versions/3.8.12/envs/lewagon/lib/python3.8/site-packages/lwb_smr/params.py\"\u001b[0;36m, line \u001b[0;32m12\u001b[0m\n\u001b[0;31m    <<<<<<< HEAD\u001b[0m\n\u001b[0m    ^\u001b[0m\n\u001b[0;31mSyntaxError\u001b[0m\u001b[0;31m:\u001b[0m invalid syntax\n"
     ]
    }
   ],
   "source": [
    "from lwb_smr.test_trainer import Test_Trainer"
   ]
  },
  {
   "cell_type": "code",
   "execution_count": 4,
   "id": "e8c8ba4d-e570-4986-8da5-1bf1958eba47",
   "metadata": {},
   "outputs": [
    {
     "ename": "ModuleNotFoundError",
     "evalue": "No module named 'lwb_smr.test_trainer'",
     "output_type": "error",
     "traceback": [
      "\u001b[0;31m---------------------------------------------------------------------------\u001b[0m",
      "\u001b[0;31mModuleNotFoundError\u001b[0m                       Traceback (most recent call last)",
      "\u001b[0;32m/tmp/ipykernel_1112773/1257649397.py\u001b[0m in \u001b[0;36m<module>\u001b[0;34m\u001b[0m\n\u001b[0;32m----> 1\u001b[0;31m \u001b[0;32mfrom\u001b[0m \u001b[0mlwb_smr\u001b[0m\u001b[0;34m.\u001b[0m\u001b[0mtest_trainer\u001b[0m \u001b[0;32mimport\u001b[0m \u001b[0mTest_Trainer\u001b[0m\u001b[0;34m\u001b[0m\u001b[0;34m\u001b[0m\u001b[0m\n\u001b[0m\u001b[1;32m      2\u001b[0m \u001b[0;32mfrom\u001b[0m \u001b[0mlwb_smr\u001b[0m\u001b[0;34m.\u001b[0m\u001b[0mtrainer\u001b[0m \u001b[0;32mimport\u001b[0m \u001b[0mTrainer\u001b[0m\u001b[0;34m\u001b[0m\u001b[0;34m\u001b[0m\u001b[0m\n",
      "\u001b[0;31mModuleNotFoundError\u001b[0m: No module named 'lwb_smr.test_trainer'"
     ]
    }
   ],
   "source": [
    "from lwb_smr.test_trainer import Test_Trainer\n",
    "from lwb_smr.trainer import Trainer"
   ]
  },
  {
   "cell_type": "code",
   "execution_count": null,
   "id": "41d3c7dc-9845-4e4b-9b55-ae37e4cd9b5c",
   "metadata": {},
   "outputs": [],
   "source": [
    "train_csv = \"../../raw_data/image_datasets_csv/train_dataset.csv\"\n",
    "val_csv = \"../../raw_data/image_datasets_csv/validation_dataset.csv\"\n",
    "test_csv = \"../../raw_data/image_datasets_csv/test_dataset.csv\""
   ]
  },
  {
   "cell_type": "code",
   "execution_count": 8,
   "id": "8a0174a1-c220-456a-bb69-72d027664be7",
   "metadata": {},
   "outputs": [
    {
     "name": "stdout",
     "output_type": "stream",
     "text": [
      "Datasets match, proceed\n"
     ]
    },
    {
     "data": {
      "text/plain": [
       "['tyrol-w23_x19_y16.jpeg',\n",
       " 'chicago12_x00_y08.jpeg',\n",
       " 'kitsap2_x09_y02.jpeg',\n",
       " 'tyrol-w22_x18_y09.jpeg',\n",
       " 'vienna19_x16_y08.jpeg']"
      ]
     },
     "execution_count": 8,
     "metadata": {},
     "output_type": "execute_result"
    }
   ],
   "source": [
    "data_dict = LoadDataSets(train_csv,val_csv,test_csv).load_datasets()\n",
    "data_dict['train_x'][0:5]"
   ]
  },
  {
   "cell_type": "markdown",
   "id": "3579e2fa-e7ca-454f-8ed9-a91462884028",
   "metadata": {},
   "source": [
    "# TEST RUN"
   ]
  },
  {
   "cell_type": "code",
   "execution_count": 25,
   "id": "0ba968c7-b747-488d-9c9f-d202a41e6cca",
   "metadata": {},
   "outputs": [],
   "source": [
    "from lwb_smr.test_trainer import Test_Trainer"
   ]
  },
  {
   "cell_type": "code",
   "execution_count": 26,
   "id": "04e4c98d-0dee-40d4-9611-2efbc3c47a71",
   "metadata": {},
   "outputs": [
    {
     "name": "stdout",
     "output_type": "stream",
     "text": [
      "Datasets match, proceed\n"
     ]
    }
   ],
   "source": [
    "model = Test_Trainer()"
   ]
  },
  {
   "cell_type": "code",
   "execution_count": 27,
   "id": "adca05bf-4dbb-4e78-a0c4-0b797c945282",
   "metadata": {},
   "outputs": [
    {
     "name": "stdout",
     "output_type": "stream",
     "text": [
      "/home/joshk/code/lwb_smr/lwb_smr/notebooks/day5\n"
     ]
    }
   ],
   "source": [
    "!pwd"
   ]
  },
  {
   "cell_type": "code",
   "execution_count": 28,
   "id": "0ea8902d-b22a-43e0-a5d7-f441b40d41e0",
   "metadata": {},
   "outputs": [
    {
     "name": "stdout",
     "output_type": "stream",
     "text": [
      "--------------------------------------------------------------------------------\n",
      "------LOADING TRAIN DATA------\n",
      "................................................................................\n",
      "------SUCCESS------\n",
      "--------------------------------------------------------------------------------\n",
      "------LOADING VALIDATION DATA------\n",
      "................................................................................\n",
      "------SUCCESS------\n",
      "Epoch 1/2\n",
      "2/2 [==============================] - 19s 11s/step - loss: 0.6291 - accuracy: 0.5699 - val_loss: 1.1130 - val_accuracy: 0.3319\n",
      "Epoch 2/2\n",
      "2/2 [==============================] - 17s 10s/step - loss: 0.5413 - accuracy: 0.7152 - val_loss: 1.0384 - val_accuracy: 0.3340\n",
      "================================================================================\n",
      "------MODEL RUN SUCCESFULLY COMPLETED------\n",
      "--------------------------------------------------------------------------------\n",
      "------LOADING TEST DATA------\n",
      "................................................................................\n",
      "------SUCCESS------\n",
      "--------------------------------------------------------------------------------\n",
      "------MODEL EVALUATING------\n",
      "2/2 [==============================] - 4s 2s/step - loss: 1.4050 - accuracy: 0.0714\n",
      "================================================================================\n",
      "------MODEL EVALUATED------\n",
      "CPU times: user 7min 29s, sys: 52.5 s, total: 8min 21s\n",
      "Wall time: 40.9 s\n"
     ]
    }
   ],
   "source": [
    "%%time\n",
    "model.run()"
   ]
  },
  {
   "cell_type": "code",
   "execution_count": null,
   "id": "199f5402-bb5e-479e-8b7b-cd80bf5d7749",
   "metadata": {},
   "outputs": [],
   "source": []
  }
 ],
 "metadata": {
  "kernelspec": {
   "display_name": "Python 3 (ipykernel)",
   "language": "python",
   "name": "python3"
  },
  "language_info": {
   "codemirror_mode": {
    "name": "ipython",
    "version": 3
   },
   "file_extension": ".py",
   "mimetype": "text/x-python",
   "name": "python",
   "nbconvert_exporter": "python",
   "pygments_lexer": "ipython3",
   "version": "3.8.12"
  }
 },
 "nbformat": 4,
 "nbformat_minor": 5
}
