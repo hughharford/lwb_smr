{
 "cells": [
  {
   "cell_type": "code",
   "execution_count": 2,
   "id": "3a088b2d",
   "metadata": {},
   "outputs": [],
   "source": [
    "import googlemaps"
   ]
  },
  {
   "cell_type": "code",
   "execution_count": 1,
   "id": "2f334552",
   "metadata": {},
   "outputs": [],
   "source": [
    "api_key = \"\""
   ]
  },
  {
   "cell_type": "code",
   "execution_count": 4,
   "id": "77bbe790",
   "metadata": {},
   "outputs": [],
   "source": [
    "map_client = googlemaps.Client(key=api_key)"
   ]
  },
  {
   "cell_type": "code",
   "execution_count": 7,
   "id": "04f5107f",
   "metadata": {},
   "outputs": [
    {
     "data": {
      "text/plain": [
       "[{'address_components': [{'long_name': 'G3 8LZ',\n",
       "    'short_name': 'G3 8LZ',\n",
       "    'types': ['postal_code']},\n",
       "   {'long_name': 'Argyle Street',\n",
       "    'short_name': 'Argyle St',\n",
       "    'types': ['route']},\n",
       "   {'long_name': 'Finnieston',\n",
       "    'short_name': 'Finnieston',\n",
       "    'types': ['political', 'sublocality', 'sublocality_level_1']},\n",
       "   {'long_name': 'Glasgow', 'short_name': 'Glasgow', 'types': ['postal_town']},\n",
       "   {'long_name': 'Glasgow City',\n",
       "    'short_name': 'Glasgow City',\n",
       "    'types': ['administrative_area_level_2', 'political']},\n",
       "   {'long_name': 'Scotland',\n",
       "    'short_name': 'Scotland',\n",
       "    'types': ['administrative_area_level_1', 'political']},\n",
       "   {'long_name': 'United Kingdom',\n",
       "    'short_name': 'GB',\n",
       "    'types': ['country', 'political']}],\n",
       "  'formatted_address': 'Argyle St, Finnieston, Glasgow G3 8LZ, UK',\n",
       "  'geometry': {'bounds': {'northeast': {'lat': 55.864795, 'lng': -4.2824157},\n",
       "    'southwest': {'lat': 55.863425, 'lng': -4.2834362}},\n",
       "   'location': {'lat': 55.8641732, 'lng': -4.2828493},\n",
       "   'location_type': 'APPROXIMATE',\n",
       "   'viewport': {'northeast': {'lat': 55.8654589802915,\n",
       "     'lng': -4.281576969708498},\n",
       "    'southwest': {'lat': 55.86276101970851, 'lng': -4.284274930291502}}},\n",
       "  'place_id': 'ChIJVZXuINVFiEgRKwzntCXIUKE',\n",
       "  'types': ['postal_code']}]"
      ]
     },
     "execution_count": 7,
     "metadata": {},
     "output_type": "execute_result"
    }
   ],
   "source": [
    "geocode_result = map_client.geocode('G3 8LZ')\n",
    "geocode_result"
   ]
  },
  {
   "cell_type": "code",
   "execution_count": 8,
   "id": "66c71f41",
   "metadata": {},
   "outputs": [
    {
     "data": {
      "text/plain": [
       "'Argyle St, Finnieston, Glasgow G3 8LZ, UK'"
      ]
     },
     "execution_count": 8,
     "metadata": {},
     "output_type": "execute_result"
    }
   ],
   "source": [
    "geocode_result[0]['formatted_address']"
   ]
  },
  {
   "cell_type": "code",
   "execution_count": 12,
   "id": "e211f62a",
   "metadata": {},
   "outputs": [
    {
     "data": {
      "text/plain": [
       "{'lat': 55.8641732, 'lng': -4.2828493}"
      ]
     },
     "execution_count": 12,
     "metadata": {},
     "output_type": "execute_result"
    }
   ],
   "source": [
    "geocode_result[0]['geometry']['location']"
   ]
  },
  {
   "cell_type": "code",
   "execution_count": null,
   "id": "8d8604b8",
   "metadata": {},
   "outputs": [],
   "source": []
  }
 ],
 "metadata": {
  "kernelspec": {
   "display_name": "Python 3 (ipykernel)",
   "language": "python",
   "name": "python3"
  },
  "language_info": {
   "codemirror_mode": {
    "name": "ipython",
    "version": 3
   },
   "file_extension": ".py",
   "mimetype": "text/x-python",
   "name": "python",
   "nbconvert_exporter": "python",
   "pygments_lexer": "ipython3",
   "version": "3.8.13"
  },
  "toc": {
   "base_numbering": 1,
   "nav_menu": {},
   "number_sections": true,
   "sideBar": true,
   "skip_h1_title": false,
   "title_cell": "Table of Contents",
   "title_sidebar": "Contents",
   "toc_cell": false,
   "toc_position": {},
   "toc_section_display": true,
   "toc_window_display": false
  }
 },
 "nbformat": 4,
 "nbformat_minor": 5
}
