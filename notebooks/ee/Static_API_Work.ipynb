{
 "cells": [
  {
   "cell_type": "code",
   "execution_count": 1,
   "id": "3d10c737",
   "metadata": {},
   "outputs": [],
   "source": [
    "import googlemaps"
   ]
  },
  {
   "cell_type": "code",
   "execution_count": 2,
   "id": "f9375370",
   "metadata": {},
   "outputs": [],
   "source": [
    "address = \"138 Kingsland Road, London E2 8DY\""
   ]
  },
  {
   "cell_type": "markdown",
   "id": "3f0912c6",
   "metadata": {},
   "source": [
    "### Get key from your google cloud credentials API and services in your project"
   ]
  },
  {
   "cell_type": "code",
   "execution_count": 3,
   "id": "d0a536aa",
   "metadata": {},
   "outputs": [],
   "source": [
    "APIKEY = \"\""
   ]
  },
  {
   "cell_type": "code",
   "execution_count": 4,
   "id": "80672b1e",
   "metadata": {},
   "outputs": [],
   "source": [
    "map_client = googlemaps.Client(APIKEY)"
   ]
  },
  {
   "cell_type": "code",
   "execution_count": 5,
   "id": "d86e0ff9",
   "metadata": {},
   "outputs": [],
   "source": [
    "response = map_client.static_map(size=(1024,1024),scale=2,maptype =\"satellite\" ,center=(address),zoom= 17)"
   ]
  },
  {
   "cell_type": "code",
   "execution_count": 6,
   "id": "4abd3161",
   "metadata": {},
   "outputs": [],
   "source": [
    "f = open(\"london.jpg\",\"wb\")\n",
    "for x in response:\n",
    "    f.write(x)\n",
    "f.close()"
   ]
  },
  {
   "cell_type": "code",
   "execution_count": null,
   "id": "ddcd0ee9",
   "metadata": {},
   "outputs": [],
   "source": []
  },
  {
   "cell_type": "code",
   "execution_count": null,
   "id": "dda254fc",
   "metadata": {},
   "outputs": [],
   "source": []
  },
  {
   "cell_type": "code",
   "execution_count": null,
   "id": "86d1f2ca",
   "metadata": {},
   "outputs": [],
   "source": []
  }
 ],
 "metadata": {
  "kernelspec": {
   "display_name": "Python 3 (ipykernel)",
   "language": "python",
   "name": "python3"
  },
  "language_info": {
   "codemirror_mode": {
    "name": "ipython",
    "version": 3
   },
   "file_extension": ".py",
   "mimetype": "text/x-python",
   "name": "python",
   "nbconvert_exporter": "python",
   "pygments_lexer": "ipython3",
   "version": "3.8.12"
  },
  "toc": {
   "base_numbering": 1,
   "nav_menu": {},
   "number_sections": true,
   "sideBar": true,
   "skip_h1_title": false,
   "title_cell": "Table of Contents",
   "title_sidebar": "Contents",
   "toc_cell": false,
   "toc_position": {},
   "toc_section_display": true,
   "toc_window_display": false
  }
 },
 "nbformat": 4,
 "nbformat_minor": 5
}
