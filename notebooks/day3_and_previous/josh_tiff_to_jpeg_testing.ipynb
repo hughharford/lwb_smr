{
 "cells": [
  {
   "cell_type": "code",
   "execution_count": 1,
   "id": "be0f39b3-cdb0-484e-9b12-d69043e60663",
   "metadata": {},
   "outputs": [],
   "source": [
    "%load_ext autoreload\n",
    "%autoreload 2"
   ]
  },
  {
   "cell_type": "code",
   "execution_count": 2,
   "id": "4de86fc4-84b4-446c-9e03-eba837323ea2",
   "metadata": {},
   "outputs": [],
   "source": [
    "import numpy as np\n",
    "import pandas as pd\n",
    "from PIL import Image\n",
    "import matplotlib.pyplot as plt\n",
    "import os"
   ]
  },
  {
   "cell_type": "code",
   "execution_count": 16,
   "id": "5fae9fbe-0e17-4b27-8926-139049bf5307",
   "metadata": {},
   "outputs": [
    {
     "data": {
      "text/plain": [
       "1200"
      ]
     },
     "execution_count": 16,
     "metadata": {},
     "output_type": "execute_result"
    }
   ],
   "source": [
    "tiff_small_set = os.listdir(\"../raw_data/tiled_train_images/\")\n",
    "tiff_small_set.sort()\n",
    "# tiff_small_set = tiff_small_set[0:20]\n",
    "len(tiff_small_set)"
   ]
  },
  {
   "cell_type": "code",
   "execution_count": 8,
   "id": "90d1f341-51d3-4bc2-84bf-564e58f1ae90",
   "metadata": {},
   "outputs": [],
   "source": [
    "input_folder = \"../raw_data/tiled_train_images/\"\n",
    "output_folder = \"../raw_data/jpeg_testing/\""
   ]
  },
  {
   "cell_type": "code",
   "execution_count": 17,
   "id": "6f7523c6-036a-47c1-8df9-fefaf9121821",
   "metadata": {},
   "outputs": [
    {
     "name": "stdout",
     "output_type": "stream",
     "text": [
      "CPU times: user 1.87 s, sys: 459 ms, total: 2.33 s\n",
      "Wall time: 4.1 s\n"
     ]
    }
   ],
   "source": [
    "%%time\n",
    "for im in tiff_small_set:\n",
    "    cim = Image.open(input_folder+im)\n",
    "    cim.save(output_folder+im.split(\".\")[0]+\".jpeg\")"
   ]
  },
  {
   "cell_type": "code",
   "execution_count": null,
   "id": "a299d762-3b54-4eba-9a38-971e2ab5c596",
   "metadata": {},
   "outputs": [],
   "source": []
  }
 ],
 "metadata": {
  "kernelspec": {
   "display_name": "Python 3 (ipykernel)",
   "language": "python",
   "name": "python3"
  },
  "language_info": {
   "codemirror_mode": {
    "name": "ipython",
    "version": 3
   },
   "file_extension": ".py",
   "mimetype": "text/x-python",
   "name": "python",
   "nbconvert_exporter": "python",
   "pygments_lexer": "ipython3",
   "version": "3.8.12"
  }
 },
 "nbformat": 4,
 "nbformat_minor": 5
}
