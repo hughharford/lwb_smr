{
 "cells": [
  {
   "cell_type": "code",
   "execution_count": 1,
   "id": "5f20b950-d738-47c0-ba25-cade0b952f8b",
   "metadata": {},
   "outputs": [],
   "source": [
    "%load_ext autoreload\n",
    "%autoreload 2"
   ]
  },
  {
   "cell_type": "code",
   "execution_count": 2,
   "id": "2012f069-91af-4051-bab6-936afcb8bab8",
   "metadata": {},
   "outputs": [],
   "source": [
    "import numpy as np\n",
    "import pandas as pd\n",
    "import os"
   ]
  },
  {
   "cell_type": "code",
   "execution_count": 3,
   "id": "9ba59b31-3d8f-4b8c-b1fe-2e4aa3ca073d",
   "metadata": {},
   "outputs": [],
   "source": [
    "train_data_path = \"../raw_data/tiled_train_images/\"\n",
    "test_data_path  = \"../raw_data/tiled_test_images/\""
   ]
  },
  {
   "cell_type": "code",
   "execution_count": 101,
   "id": "1c365206-b29c-4e4e-8902-68df6c34f51e",
   "metadata": {},
   "outputs": [],
   "source": [
    "from lwb_smr.data import GetData"
   ]
  },
  {
   "cell_type": "markdown",
   "id": "eff9474e-4a5a-4625-a00b-6c1482c8097a",
   "metadata": {
    "jp-MarkdownHeadingCollapsed": true,
    "tags": []
   },
   "source": [
    "# testing"
   ]
  },
  {
   "cell_type": "code",
   "execution_count": 26,
   "id": "23e110cb-ff87-467f-913a-22e9c749eed8",
   "metadata": {},
   "outputs": [],
   "source": [
    "train_list = os.listdir(train_data_path)\n",
    "test_list = os.listdir(test_data_path)"
   ]
  },
  {
   "cell_type": "code",
   "execution_count": 51,
   "id": "eda78957-9597-4674-ac13-56f0add327b1",
   "metadata": {},
   "outputs": [],
   "source": [
    "train_list.sort()\n",
    "test_list.sort()"
   ]
  },
  {
   "cell_type": "code",
   "execution_count": 52,
   "id": "ecc30252-9b0d-41ce-a279-9d590464bdfc",
   "metadata": {},
   "outputs": [],
   "source": [
    "data_df = pd.DataFrame(list(zip(train_list,test_list)), columns=['x_data','y_data'])"
   ]
  },
  {
   "cell_type": "code",
   "execution_count": 53,
   "id": "aa1b56a3-023d-4962-89af-8a57e171d1f5",
   "metadata": {},
   "outputs": [
    {
     "data": {
      "text/html": [
       "<div>\n",
       "<style scoped>\n",
       "    .dataframe tbody tr th:only-of-type {\n",
       "        vertical-align: middle;\n",
       "    }\n",
       "\n",
       "    .dataframe tbody tr th {\n",
       "        vertical-align: top;\n",
       "    }\n",
       "\n",
       "    .dataframe thead th {\n",
       "        text-align: right;\n",
       "    }\n",
       "</style>\n",
       "<table border=\"1\" class=\"dataframe\">\n",
       "  <thead>\n",
       "    <tr style=\"text-align: right;\">\n",
       "      <th></th>\n",
       "      <th>x_data</th>\n",
       "      <th>y_data</th>\n",
       "    </tr>\n",
       "  </thead>\n",
       "  <tbody>\n",
       "    <tr>\n",
       "      <th>0</th>\n",
       "      <td>austin1_x00_y00.tif</td>\n",
       "      <td>austin1_mask_x00_y00.tif</td>\n",
       "    </tr>\n",
       "    <tr>\n",
       "      <th>1</th>\n",
       "      <td>austin1_x00_y01.tif</td>\n",
       "      <td>austin1_mask_x00_y01.tif</td>\n",
       "    </tr>\n",
       "    <tr>\n",
       "      <th>2</th>\n",
       "      <td>austin1_x00_y02.tif</td>\n",
       "      <td>austin1_mask_x00_y02.tif</td>\n",
       "    </tr>\n",
       "    <tr>\n",
       "      <th>3</th>\n",
       "      <td>austin1_x00_y03.tif</td>\n",
       "      <td>austin1_mask_x00_y03.tif</td>\n",
       "    </tr>\n",
       "    <tr>\n",
       "      <th>4</th>\n",
       "      <td>austin1_x00_y04.tif</td>\n",
       "      <td>austin1_mask_x00_y04.tif</td>\n",
       "    </tr>\n",
       "    <tr>\n",
       "      <th>...</th>\n",
       "      <td>...</td>\n",
       "      <td>...</td>\n",
       "    </tr>\n",
       "    <tr>\n",
       "      <th>1195</th>\n",
       "      <td>austin3_x19_y15.tif</td>\n",
       "      <td>austin3_mask_x19_y15.tif</td>\n",
       "    </tr>\n",
       "    <tr>\n",
       "      <th>1196</th>\n",
       "      <td>austin3_x19_y16.tif</td>\n",
       "      <td>austin3_mask_x19_y16.tif</td>\n",
       "    </tr>\n",
       "    <tr>\n",
       "      <th>1197</th>\n",
       "      <td>austin3_x19_y17.tif</td>\n",
       "      <td>austin3_mask_x19_y17.tif</td>\n",
       "    </tr>\n",
       "    <tr>\n",
       "      <th>1198</th>\n",
       "      <td>austin3_x19_y18.tif</td>\n",
       "      <td>austin3_mask_x19_y18.tif</td>\n",
       "    </tr>\n",
       "    <tr>\n",
       "      <th>1199</th>\n",
       "      <td>austin3_x19_y19.tif</td>\n",
       "      <td>austin3_mask_x19_y19.tif</td>\n",
       "    </tr>\n",
       "  </tbody>\n",
       "</table>\n",
       "<p>1200 rows × 2 columns</p>\n",
       "</div>"
      ],
      "text/plain": [
       "                   x_data                    y_data\n",
       "0     austin1_x00_y00.tif  austin1_mask_x00_y00.tif\n",
       "1     austin1_x00_y01.tif  austin1_mask_x00_y01.tif\n",
       "2     austin1_x00_y02.tif  austin1_mask_x00_y02.tif\n",
       "3     austin1_x00_y03.tif  austin1_mask_x00_y03.tif\n",
       "4     austin1_x00_y04.tif  austin1_mask_x00_y04.tif\n",
       "...                   ...                       ...\n",
       "1195  austin3_x19_y15.tif  austin3_mask_x19_y15.tif\n",
       "1196  austin3_x19_y16.tif  austin3_mask_x19_y16.tif\n",
       "1197  austin3_x19_y17.tif  austin3_mask_x19_y17.tif\n",
       "1198  austin3_x19_y18.tif  austin3_mask_x19_y18.tif\n",
       "1199  austin3_x19_y19.tif  austin3_mask_x19_y19.tif\n",
       "\n",
       "[1200 rows x 2 columns]"
      ]
     },
     "execution_count": 53,
     "metadata": {},
     "output_type": "execute_result"
    }
   ],
   "source": [
    "data_df"
   ]
  },
  {
   "cell_type": "code",
   "execution_count": 19,
   "id": "89f66f6d-8b0b-45d4-b887-70197ef925c4",
   "metadata": {},
   "outputs": [
    {
     "data": {
      "text/html": [
       "<div>\n",
       "<style scoped>\n",
       "    .dataframe tbody tr th:only-of-type {\n",
       "        vertical-align: middle;\n",
       "    }\n",
       "\n",
       "    .dataframe tbody tr th {\n",
       "        vertical-align: top;\n",
       "    }\n",
       "\n",
       "    .dataframe thead th {\n",
       "        text-align: right;\n",
       "    }\n",
       "</style>\n",
       "<table border=\"1\" class=\"dataframe\">\n",
       "  <thead>\n",
       "    <tr style=\"text-align: right;\">\n",
       "      <th></th>\n",
       "      <th>x_data</th>\n",
       "      <th>y_data</th>\n",
       "    </tr>\n",
       "  </thead>\n",
       "  <tbody>\n",
       "    <tr>\n",
       "      <th>1178</th>\n",
       "      <td>austin1_x02_y07.tif</td>\n",
       "      <td>austin1_mask_x03_y09.tif</td>\n",
       "    </tr>\n",
       "    <tr>\n",
       "      <th>865</th>\n",
       "      <td>austin1_x00_y00.tif</td>\n",
       "      <td>austin1_mask_x10_y14.tif</td>\n",
       "    </tr>\n",
       "    <tr>\n",
       "      <th>101</th>\n",
       "      <td>austin2_x13_y00.tif</td>\n",
       "      <td>austin3_mask_x08_y14.tif</td>\n",
       "    </tr>\n",
       "    <tr>\n",
       "      <th>439</th>\n",
       "      <td>austin2_x01_y07.tif</td>\n",
       "      <td>austin3_mask_x17_y16.tif</td>\n",
       "    </tr>\n",
       "    <tr>\n",
       "      <th>58</th>\n",
       "      <td>austin3_x07_y09.tif</td>\n",
       "      <td>austin2_mask_x00_y17.tif</td>\n",
       "    </tr>\n",
       "    <tr>\n",
       "      <th>...</th>\n",
       "      <td>...</td>\n",
       "      <td>...</td>\n",
       "    </tr>\n",
       "    <tr>\n",
       "      <th>19</th>\n",
       "      <td>austin3_x08_y05.tif</td>\n",
       "      <td>austin2_mask_x07_y05.tif</td>\n",
       "    </tr>\n",
       "    <tr>\n",
       "      <th>684</th>\n",
       "      <td>austin2_x07_y14.tif</td>\n",
       "      <td>austin3_mask_x13_y19.tif</td>\n",
       "    </tr>\n",
       "    <tr>\n",
       "      <th>35</th>\n",
       "      <td>austin1_x18_y07.tif</td>\n",
       "      <td>austin2_mask_x16_y18.tif</td>\n",
       "    </tr>\n",
       "    <tr>\n",
       "      <th>824</th>\n",
       "      <td>austin3_x14_y10.tif</td>\n",
       "      <td>austin3_mask_x10_y08.tif</td>\n",
       "    </tr>\n",
       "    <tr>\n",
       "      <th>505</th>\n",
       "      <td>austin2_x15_y19.tif</td>\n",
       "      <td>austin1_mask_x09_y10.tif</td>\n",
       "    </tr>\n",
       "  </tbody>\n",
       "</table>\n",
       "<p>840 rows × 2 columns</p>\n",
       "</div>"
      ],
      "text/plain": [
       "                   x_data                    y_data\n",
       "1178  austin1_x02_y07.tif  austin1_mask_x03_y09.tif\n",
       "865   austin1_x00_y00.tif  austin1_mask_x10_y14.tif\n",
       "101   austin2_x13_y00.tif  austin3_mask_x08_y14.tif\n",
       "439   austin2_x01_y07.tif  austin3_mask_x17_y16.tif\n",
       "58    austin3_x07_y09.tif  austin2_mask_x00_y17.tif\n",
       "...                   ...                       ...\n",
       "19    austin3_x08_y05.tif  austin2_mask_x07_y05.tif\n",
       "684   austin2_x07_y14.tif  austin3_mask_x13_y19.tif\n",
       "35    austin1_x18_y07.tif  austin2_mask_x16_y18.tif\n",
       "824   austin3_x14_y10.tif  austin3_mask_x10_y08.tif\n",
       "505   austin2_x15_y19.tif  austin1_mask_x09_y10.tif\n",
       "\n",
       "[840 rows x 2 columns]"
      ]
     },
     "execution_count": 19,
     "metadata": {},
     "output_type": "execute_result"
    }
   ],
   "source": [
    "data_df.sample(n=840,random_state=42)"
   ]
  },
  {
   "cell_type": "code",
   "execution_count": 18,
   "id": "afdbb750-782f-498c-8b47-99e7fc8a05a5",
   "metadata": {},
   "outputs": [
    {
     "data": {
      "text/plain": [
       "840"
      ]
     },
     "execution_count": 18,
     "metadata": {},
     "output_type": "execute_result"
    }
   ],
   "source": [
    "1200-360"
   ]
  },
  {
   "cell_type": "code",
   "execution_count": 20,
   "id": "410bab68-01c6-4a6f-80a9-5d7541f5d6d7",
   "metadata": {},
   "outputs": [],
   "source": [
    "data_split = data_df.copy()"
   ]
  },
  {
   "cell_type": "code",
   "execution_count": 39,
   "id": "e9cdca2e-360b-4aab-aa2c-6f9a05459496",
   "metadata": {},
   "outputs": [],
   "source": [
    "data_train = data_split.sample(n=840,random_state=42)"
   ]
  },
  {
   "cell_type": "code",
   "execution_count": 32,
   "id": "a195c056-1f97-411f-9dde-a37493b8f5d6",
   "metadata": {},
   "outputs": [],
   "source": [
    "droplist = tuple(data_train.index)"
   ]
  },
  {
   "cell_type": "code",
   "execution_count": 33,
   "id": "12aac801-faf8-4970-92e4-c2763f7270f6",
   "metadata": {},
   "outputs": [
    {
     "data": {
      "text/plain": [
       "tuple"
      ]
     },
     "execution_count": 33,
     "metadata": {},
     "output_type": "execute_result"
    }
   ],
   "source": [
    "type(droplist)"
   ]
  },
  {
   "cell_type": "code",
   "execution_count": 34,
   "id": "c0b1b3f0-65db-4585-86d3-8b6bf519fdbe",
   "metadata": {},
   "outputs": [
    {
     "data": {
      "text/plain": [
       "840"
      ]
     },
     "execution_count": 34,
     "metadata": {},
     "output_type": "execute_result"
    }
   ],
   "source": [
    "len(droplist)"
   ]
  },
  {
   "cell_type": "code",
   "execution_count": 35,
   "id": "298e265c-9388-4eb9-9e7d-627b0fe21097",
   "metadata": {},
   "outputs": [
    {
     "name": "stderr",
     "output_type": "stream",
     "text": [
      "/home/joshk/.pyenv/versions/3.8.12/envs/lewagon/lib/python3.8/site-packages/pandas/core/indexes/base.py:4616: FutureWarning: Using a non-tuple sequence for multidimensional indexing is deprecated; use `arr[tuple(seq)]` instead of `arr[seq]`. In the future this will be interpreted as an array index, `arr[np.array(seq)]`, which will result either in an error or a different result.\n",
      "  result = getitem(key)\n"
     ]
    },
    {
     "data": {
      "text/html": [
       "<div>\n",
       "<style scoped>\n",
       "    .dataframe tbody tr th:only-of-type {\n",
       "        vertical-align: middle;\n",
       "    }\n",
       "\n",
       "    .dataframe tbody tr th {\n",
       "        vertical-align: top;\n",
       "    }\n",
       "\n",
       "    .dataframe thead th {\n",
       "        text-align: right;\n",
       "    }\n",
       "</style>\n",
       "<table border=\"1\" class=\"dataframe\">\n",
       "  <thead>\n",
       "    <tr style=\"text-align: right;\">\n",
       "      <th></th>\n",
       "      <th>x_data</th>\n",
       "      <th>y_data</th>\n",
       "    </tr>\n",
       "  </thead>\n",
       "  <tbody>\n",
       "    <tr>\n",
       "      <th>1</th>\n",
       "      <td>austin3_x05_y12.tif</td>\n",
       "      <td>austin1_mask_x03_y00.tif</td>\n",
       "    </tr>\n",
       "    <tr>\n",
       "      <th>8</th>\n",
       "      <td>austin1_x13_y08.tif</td>\n",
       "      <td>austin3_mask_x08_y07.tif</td>\n",
       "    </tr>\n",
       "    <tr>\n",
       "      <th>13</th>\n",
       "      <td>austin2_x03_y13.tif</td>\n",
       "      <td>austin3_mask_x09_y08.tif</td>\n",
       "    </tr>\n",
       "    <tr>\n",
       "      <th>14</th>\n",
       "      <td>austin3_x04_y16.tif</td>\n",
       "      <td>austin3_mask_x06_y02.tif</td>\n",
       "    </tr>\n",
       "    <tr>\n",
       "      <th>16</th>\n",
       "      <td>austin2_x17_y00.tif</td>\n",
       "      <td>austin1_mask_x05_y16.tif</td>\n",
       "    </tr>\n",
       "    <tr>\n",
       "      <th>...</th>\n",
       "      <td>...</td>\n",
       "      <td>...</td>\n",
       "    </tr>\n",
       "    <tr>\n",
       "      <th>1189</th>\n",
       "      <td>austin1_x00_y15.tif</td>\n",
       "      <td>austin2_mask_x03_y19.tif</td>\n",
       "    </tr>\n",
       "    <tr>\n",
       "      <th>1196</th>\n",
       "      <td>austin1_x08_y05.tif</td>\n",
       "      <td>austin3_mask_x09_y12.tif</td>\n",
       "    </tr>\n",
       "    <tr>\n",
       "      <th>1197</th>\n",
       "      <td>austin3_x02_y18.tif</td>\n",
       "      <td>austin2_mask_x03_y09.tif</td>\n",
       "    </tr>\n",
       "    <tr>\n",
       "      <th>1198</th>\n",
       "      <td>austin3_x04_y10.tif</td>\n",
       "      <td>austin2_mask_x12_y17.tif</td>\n",
       "    </tr>\n",
       "    <tr>\n",
       "      <th>1199</th>\n",
       "      <td>austin3_x16_y05.tif</td>\n",
       "      <td>austin1_mask_x05_y15.tif</td>\n",
       "    </tr>\n",
       "  </tbody>\n",
       "</table>\n",
       "<p>360 rows × 2 columns</p>\n",
       "</div>"
      ],
      "text/plain": [
       "                   x_data                    y_data\n",
       "1     austin3_x05_y12.tif  austin1_mask_x03_y00.tif\n",
       "8     austin1_x13_y08.tif  austin3_mask_x08_y07.tif\n",
       "13    austin2_x03_y13.tif  austin3_mask_x09_y08.tif\n",
       "14    austin3_x04_y16.tif  austin3_mask_x06_y02.tif\n",
       "16    austin2_x17_y00.tif  austin1_mask_x05_y16.tif\n",
       "...                   ...                       ...\n",
       "1189  austin1_x00_y15.tif  austin2_mask_x03_y19.tif\n",
       "1196  austin1_x08_y05.tif  austin3_mask_x09_y12.tif\n",
       "1197  austin3_x02_y18.tif  austin2_mask_x03_y09.tif\n",
       "1198  austin3_x04_y10.tif  austin2_mask_x12_y17.tif\n",
       "1199  austin3_x16_y05.tif  austin1_mask_x05_y15.tif\n",
       "\n",
       "[360 rows x 2 columns]"
      ]
     },
     "execution_count": 35,
     "metadata": {},
     "output_type": "execute_result"
    }
   ],
   "source": [
    "data_split.drop(data_split.index[[tuple(data_train.index)]])"
   ]
  },
  {
   "cell_type": "code",
   "execution_count": 40,
   "id": "b0cc4841-cdc7-4f51-bd8e-9d2826791da4",
   "metadata": {},
   "outputs": [],
   "source": [
    "data_train.to_csv(\"../raw_data/saved_dataframes/\"+\"temp.csv\")"
   ]
  },
  {
   "cell_type": "code",
   "execution_count": 44,
   "id": "8848c586-6b11-4347-bc00-e19ef102a0e2",
   "metadata": {},
   "outputs": [],
   "source": [
    "df_loaded = pd.read_csv(\"../raw_data/saved_dataframes/temp.csv\",index_col=0)"
   ]
  },
  {
   "cell_type": "code",
   "execution_count": 45,
   "id": "f46297bc-d433-46a4-a047-ee866c360dfd",
   "metadata": {},
   "outputs": [
    {
     "data": {
      "text/html": [
       "<div>\n",
       "<style scoped>\n",
       "    .dataframe tbody tr th:only-of-type {\n",
       "        vertical-align: middle;\n",
       "    }\n",
       "\n",
       "    .dataframe tbody tr th {\n",
       "        vertical-align: top;\n",
       "    }\n",
       "\n",
       "    .dataframe thead th {\n",
       "        text-align: right;\n",
       "    }\n",
       "</style>\n",
       "<table border=\"1\" class=\"dataframe\">\n",
       "  <thead>\n",
       "    <tr style=\"text-align: right;\">\n",
       "      <th></th>\n",
       "      <th>x_data</th>\n",
       "      <th>y_data</th>\n",
       "    </tr>\n",
       "  </thead>\n",
       "  <tbody>\n",
       "    <tr>\n",
       "      <th>1178</th>\n",
       "      <td>austin1_x02_y07.tif</td>\n",
       "      <td>austin1_mask_x03_y09.tif</td>\n",
       "    </tr>\n",
       "    <tr>\n",
       "      <th>865</th>\n",
       "      <td>austin1_x00_y00.tif</td>\n",
       "      <td>austin1_mask_x10_y14.tif</td>\n",
       "    </tr>\n",
       "    <tr>\n",
       "      <th>101</th>\n",
       "      <td>austin2_x13_y00.tif</td>\n",
       "      <td>austin3_mask_x08_y14.tif</td>\n",
       "    </tr>\n",
       "    <tr>\n",
       "      <th>439</th>\n",
       "      <td>austin2_x01_y07.tif</td>\n",
       "      <td>austin3_mask_x17_y16.tif</td>\n",
       "    </tr>\n",
       "    <tr>\n",
       "      <th>58</th>\n",
       "      <td>austin3_x07_y09.tif</td>\n",
       "      <td>austin2_mask_x00_y17.tif</td>\n",
       "    </tr>\n",
       "    <tr>\n",
       "      <th>...</th>\n",
       "      <td>...</td>\n",
       "      <td>...</td>\n",
       "    </tr>\n",
       "    <tr>\n",
       "      <th>19</th>\n",
       "      <td>austin3_x08_y05.tif</td>\n",
       "      <td>austin2_mask_x07_y05.tif</td>\n",
       "    </tr>\n",
       "    <tr>\n",
       "      <th>684</th>\n",
       "      <td>austin2_x07_y14.tif</td>\n",
       "      <td>austin3_mask_x13_y19.tif</td>\n",
       "    </tr>\n",
       "    <tr>\n",
       "      <th>35</th>\n",
       "      <td>austin1_x18_y07.tif</td>\n",
       "      <td>austin2_mask_x16_y18.tif</td>\n",
       "    </tr>\n",
       "    <tr>\n",
       "      <th>824</th>\n",
       "      <td>austin3_x14_y10.tif</td>\n",
       "      <td>austin3_mask_x10_y08.tif</td>\n",
       "    </tr>\n",
       "    <tr>\n",
       "      <th>505</th>\n",
       "      <td>austin2_x15_y19.tif</td>\n",
       "      <td>austin1_mask_x09_y10.tif</td>\n",
       "    </tr>\n",
       "  </tbody>\n",
       "</table>\n",
       "<p>840 rows × 2 columns</p>\n",
       "</div>"
      ],
      "text/plain": [
       "                   x_data                    y_data\n",
       "1178  austin1_x02_y07.tif  austin1_mask_x03_y09.tif\n",
       "865   austin1_x00_y00.tif  austin1_mask_x10_y14.tif\n",
       "101   austin2_x13_y00.tif  austin3_mask_x08_y14.tif\n",
       "439   austin2_x01_y07.tif  austin3_mask_x17_y16.tif\n",
       "58    austin3_x07_y09.tif  austin2_mask_x00_y17.tif\n",
       "...                   ...                       ...\n",
       "19    austin3_x08_y05.tif  austin2_mask_x07_y05.tif\n",
       "684   austin2_x07_y14.tif  austin3_mask_x13_y19.tif\n",
       "35    austin1_x18_y07.tif  austin2_mask_x16_y18.tif\n",
       "824   austin3_x14_y10.tif  austin3_mask_x10_y08.tif\n",
       "505   austin2_x15_y19.tif  austin1_mask_x09_y10.tif\n",
       "\n",
       "[840 rows x 2 columns]"
      ]
     },
     "execution_count": 45,
     "metadata": {},
     "output_type": "execute_result"
    }
   ],
   "source": [
    "df_loaded"
   ]
  },
  {
   "cell_type": "code",
   "execution_count": null,
   "id": "6548e017-7e06-4dd0-b74f-450731fc0eb0",
   "metadata": {},
   "outputs": [],
   "source": []
  },
  {
   "cell_type": "markdown",
   "id": "523c5ace-fb18-4dad-880a-9b714a130b01",
   "metadata": {
    "tags": []
   },
   "source": [
    "# Check"
   ]
  },
  {
   "cell_type": "code",
   "execution_count": 13,
   "id": "6f8c8d5f-0f82-4512-9430-43dd4b78167c",
   "metadata": {},
   "outputs": [],
   "source": [
    "train_percent = 0.7\n",
    "val_pc = 0.25\n",
    "test_pc = 0.05"
   ]
  },
  {
   "cell_type": "code",
   "execution_count": 34,
   "id": "84152f90-ceae-4006-a260-760c761fad6b",
   "metadata": {},
   "outputs": [
    {
     "name": "stdout",
     "output_type": "stream",
     "text": [
      "/home/joshk/code/lwb_smr/lwb_smr/notebooks\n"
     ]
    }
   ],
   "source": [
    "!pwd"
   ]
  },
  {
   "cell_type": "code",
   "execution_count": 102,
   "id": "b840ac51-5baf-41e1-8146-858cacc3d1f3",
   "metadata": {},
   "outputs": [],
   "source": [
    "# initialise class\n",
    "dataset = GetData(train_data_path,test_data_path,train_percent,val_pc,test_pc)"
   ]
  },
  {
   "cell_type": "code",
   "execution_count": 103,
   "id": "16a16195-d19c-460e-b2df-f07e9e01b7e8",
   "metadata": {},
   "outputs": [
    {
     "name": "stdout",
     "output_type": "stream",
     "text": [
      "Datasets match, proceed\n"
     ]
    }
   ],
   "source": [
    "data_dict = dataset.get_datasets()"
   ]
  },
  {
   "cell_type": "code",
   "execution_count": 104,
   "id": "86208dff-c707-49e9-aeed-b38ded51a5f3",
   "metadata": {},
   "outputs": [
    {
     "data": {
      "text/plain": [
       "dict_keys(['train_x', 'train_y', 'val_x', 'val_y', 'test_x', 'test_y'])"
      ]
     },
     "execution_count": 104,
     "metadata": {},
     "output_type": "execute_result"
    }
   ],
   "source": [
    "data_dict.keys()"
   ]
  },
  {
   "cell_type": "code",
   "execution_count": 106,
   "id": "3228a884-d09a-4067-8c50-928b179ef8b3",
   "metadata": {},
   "outputs": [],
   "source": [
    "# data_dict['test_y']"
   ]
  },
  {
   "cell_type": "code",
   "execution_count": 46,
   "id": "53bc539e-985b-44fb-9632-6c2727e15466",
   "metadata": {},
   "outputs": [
    {
     "data": {
      "text/plain": [
       "840"
      ]
     },
     "execution_count": 46,
     "metadata": {},
     "output_type": "execute_result"
    }
   ],
   "source": [
    "len(data_dict['train_x'])"
   ]
  },
  {
   "cell_type": "code",
   "execution_count": 90,
   "id": "eb277c09-5555-4cad-8c39-d00441a60ae3",
   "metadata": {},
   "outputs": [],
   "source": [
    "dataset.save_datasets(\"../raw_data/saved_dataframes/\")"
   ]
  },
  {
   "cell_type": "code",
   "execution_count": 47,
   "id": "07e24662-ef22-437b-86eb-f5901182c3d8",
   "metadata": {},
   "outputs": [
    {
     "data": {
      "text/html": [
       "<div>\n",
       "<style scoped>\n",
       "    .dataframe tbody tr th:only-of-type {\n",
       "        vertical-align: middle;\n",
       "    }\n",
       "\n",
       "    .dataframe tbody tr th {\n",
       "        vertical-align: top;\n",
       "    }\n",
       "\n",
       "    .dataframe thead th {\n",
       "        text-align: right;\n",
       "    }\n",
       "</style>\n",
       "<table border=\"1\" class=\"dataframe\">\n",
       "  <thead>\n",
       "    <tr style=\"text-align: right;\">\n",
       "      <th></th>\n",
       "      <th>x_data</th>\n",
       "      <th>y_data</th>\n",
       "    </tr>\n",
       "  </thead>\n",
       "  <tbody>\n",
       "    <tr>\n",
       "      <th>0</th>\n",
       "      <td>austin2_x13_y10.tif</td>\n",
       "      <td>austin2_mask_x12_y09.tif</td>\n",
       "    </tr>\n",
       "    <tr>\n",
       "      <th>1</th>\n",
       "      <td>austin3_x05_y12.tif</td>\n",
       "      <td>austin1_mask_x03_y00.tif</td>\n",
       "    </tr>\n",
       "    <tr>\n",
       "      <th>2</th>\n",
       "      <td>austin1_x12_y07.tif</td>\n",
       "      <td>austin2_mask_x15_y10.tif</td>\n",
       "    </tr>\n",
       "    <tr>\n",
       "      <th>3</th>\n",
       "      <td>austin2_x15_y17.tif</td>\n",
       "      <td>austin1_mask_x06_y00.tif</td>\n",
       "    </tr>\n",
       "    <tr>\n",
       "      <th>4</th>\n",
       "      <td>austin3_x19_y03.tif</td>\n",
       "      <td>austin3_mask_x09_y14.tif</td>\n",
       "    </tr>\n",
       "    <tr>\n",
       "      <th>...</th>\n",
       "      <td>...</td>\n",
       "      <td>...</td>\n",
       "    </tr>\n",
       "    <tr>\n",
       "      <th>1195</th>\n",
       "      <td>austin2_x11_y11.tif</td>\n",
       "      <td>austin1_mask_x18_y12.tif</td>\n",
       "    </tr>\n",
       "    <tr>\n",
       "      <th>1196</th>\n",
       "      <td>austin1_x08_y05.tif</td>\n",
       "      <td>austin3_mask_x09_y12.tif</td>\n",
       "    </tr>\n",
       "    <tr>\n",
       "      <th>1197</th>\n",
       "      <td>austin3_x02_y18.tif</td>\n",
       "      <td>austin2_mask_x03_y09.tif</td>\n",
       "    </tr>\n",
       "    <tr>\n",
       "      <th>1198</th>\n",
       "      <td>austin3_x04_y10.tif</td>\n",
       "      <td>austin2_mask_x12_y17.tif</td>\n",
       "    </tr>\n",
       "    <tr>\n",
       "      <th>1199</th>\n",
       "      <td>austin3_x16_y05.tif</td>\n",
       "      <td>austin1_mask_x05_y15.tif</td>\n",
       "    </tr>\n",
       "  </tbody>\n",
       "</table>\n",
       "<p>1200 rows × 2 columns</p>\n",
       "</div>"
      ],
      "text/plain": [
       "                   x_data                    y_data\n",
       "0     austin2_x13_y10.tif  austin2_mask_x12_y09.tif\n",
       "1     austin3_x05_y12.tif  austin1_mask_x03_y00.tif\n",
       "2     austin1_x12_y07.tif  austin2_mask_x15_y10.tif\n",
       "3     austin2_x15_y17.tif  austin1_mask_x06_y00.tif\n",
       "4     austin3_x19_y03.tif  austin3_mask_x09_y14.tif\n",
       "...                   ...                       ...\n",
       "1195  austin2_x11_y11.tif  austin1_mask_x18_y12.tif\n",
       "1196  austin1_x08_y05.tif  austin3_mask_x09_y12.tif\n",
       "1197  austin3_x02_y18.tif  austin2_mask_x03_y09.tif\n",
       "1198  austin3_x04_y10.tif  austin2_mask_x12_y17.tif\n",
       "1199  austin3_x16_y05.tif  austin1_mask_x05_y15.tif\n",
       "\n",
       "[1200 rows x 2 columns]"
      ]
     },
     "execution_count": 47,
     "metadata": {},
     "output_type": "execute_result"
    }
   ],
   "source": [
    "data_df"
   ]
  },
  {
   "cell_type": "code",
   "execution_count": null,
   "id": "8d33f052-a057-41d7-836f-3005da708e1f",
   "metadata": {},
   "outputs": [],
   "source": []
  },
  {
   "cell_type": "code",
   "execution_count": 67,
   "id": "e36088f5-6644-49ec-8d71-91068e2feb0f",
   "metadata": {},
   "outputs": [
    {
     "data": {
      "text/plain": [
       "0"
      ]
     },
     "execution_count": 67,
     "metadata": {},
     "output_type": "execute_result"
    }
   ],
   "source": [
    "dataset.check_data(data_dict,'test')"
   ]
  },
  {
   "cell_type": "code",
   "execution_count": 68,
   "id": "86edd673-2680-430b-bc03-fc42e10020c7",
   "metadata": {},
   "outputs": [],
   "source": [
    "validate = (data_dict.x_data == data_dict.y_data.str.replace(\"_mask\",\"\")).sum()"
   ]
  },
  {
   "cell_type": "code",
   "execution_count": 69,
   "id": "3241365a-050f-405d-970e-27a8405b6ea3",
   "metadata": {},
   "outputs": [
    {
     "data": {
      "text/plain": [
       "840"
      ]
     },
     "execution_count": 69,
     "metadata": {},
     "output_type": "execute_result"
    }
   ],
   "source": [
    "validate"
   ]
  },
  {
   "cell_type": "code",
   "execution_count": 57,
   "id": "5456ad15-7f20-43a7-99f4-c8abc669a1bc",
   "metadata": {},
   "outputs": [
    {
     "data": {
      "text/plain": [
       "1200"
      ]
     },
     "execution_count": 57,
     "metadata": {},
     "output_type": "execute_result"
    }
   ],
   "source": [
    "len(data_df)"
   ]
  },
  {
   "cell_type": "code",
   "execution_count": 91,
   "id": "4781dde0-ed85-429a-83c0-53514bfe2be5",
   "metadata": {},
   "outputs": [],
   "source": [
    "tr = \"../raw_data/saved_dataframes/train_dataset.csv\"\n",
    "va = \"../raw_data/saved_dataframes/validation_dataset.csv\"\n",
    "te = \"../raw_data/saved_dataframes/test_dataset.csv\""
   ]
  },
  {
   "cell_type": "code",
   "execution_count": 121,
   "id": "8187e36b-4709-4cf5-98ba-c4e0c37e3cb5",
   "metadata": {},
   "outputs": [],
   "source": [
    "from lwb_smr.data import LoadDataSets"
   ]
  },
  {
   "cell_type": "code",
   "execution_count": 134,
   "id": "35ec5e5a-b3bd-4352-9d13-ce99f893be62",
   "metadata": {},
   "outputs": [
    {
     "name": "stdout",
     "output_type": "stream",
     "text": [
      "Datasets match, proceed\n"
     ]
    }
   ],
   "source": [
    "reload = LoadDataSets(tr,va)\n",
    "reload_dict = reload.load_datasets()"
   ]
  },
  {
   "cell_type": "code",
   "execution_count": 135,
   "id": "08dc4275-0691-4856-808e-6ef98ff4ac7a",
   "metadata": {},
   "outputs": [
    {
     "data": {
      "text/plain": [
       "[]"
      ]
     },
     "execution_count": 135,
     "metadata": {},
     "output_type": "execute_result"
    }
   ],
   "source": [
    "reload_dict['test_x']"
   ]
  },
  {
   "cell_type": "markdown",
   "id": "f70bd2f0-e2df-40bd-8e63-85aeacfa4119",
   "metadata": {},
   "source": [
    "# Clean demo"
   ]
  },
  {
   "cell_type": "code",
   "execution_count": 136,
   "id": "31b7ddbd-c67b-4d9c-b662-9c210aff688d",
   "metadata": {},
   "outputs": [],
   "source": [
    "from lwb_smr.data import GetData\n",
    "from lwb_smr.data import LoadDataSets"
   ]
  },
  {
   "cell_type": "code",
   "execution_count": 137,
   "id": "4ff04f2a-1fe1-42ee-a3e2-2336b314b5d6",
   "metadata": {},
   "outputs": [
    {
     "name": "stdout",
     "output_type": "stream",
     "text": [
      "Datasets match, proceed\n"
     ]
    },
    {
     "name": "stderr",
     "output_type": "stream",
     "text": [
      "/home/joshk/.pyenv/versions/3.8.12/envs/lewagon/lib/python3.8/site-packages/pandas/core/indexes/base.py:4616: FutureWarning: Using a non-tuple sequence for multidimensional indexing is deprecated; use `arr[tuple(seq)]` instead of `arr[seq]`. In the future this will be interpreted as an array index, `arr[np.array(seq)]`, which will result either in an error or a different result.\n",
      "  result = getitem(key)\n"
     ]
    }
   ],
   "source": [
    "train_percent = 0.7\n",
    "val_pc = 0.25\n",
    "test_pc = 0.05\n",
    "dataset = GetData(train_data_path,test_data_path,train_percent,val_pc,test_pc)\n",
    "data_dict = dataset.get_datasets()"
   ]
  },
  {
   "cell_type": "code",
   "execution_count": 138,
   "id": "d4120e3a-0ac7-47bd-9f53-b0dee53a40fa",
   "metadata": {},
   "outputs": [
    {
     "data": {
      "text/plain": [
       "dict_keys(['train_x', 'train_y', 'val_x', 'val_y', 'test_x', 'test_y'])"
      ]
     },
     "execution_count": 138,
     "metadata": {},
     "output_type": "execute_result"
    }
   ],
   "source": [
    "data_dict.keys()"
   ]
  },
  {
   "cell_type": "code",
   "execution_count": 139,
   "id": "ec0c516e-0222-4e9f-8f51-a2a03ff0c9c0",
   "metadata": {},
   "outputs": [],
   "source": [
    "dataset.save_datasets(\"../raw_data/saved_dataframes/\")"
   ]
  },
  {
   "cell_type": "markdown",
   "id": "820f557f-eeb5-40a3-ae3d-0fe2bcd06dc1",
   "metadata": {},
   "source": [
    " RELOADING:\n"
   ]
  },
  {
   "cell_type": "code",
   "execution_count": 141,
   "id": "0c014c67-ba8d-415d-8dc9-0f57d8f7bb00",
   "metadata": {},
   "outputs": [],
   "source": [
    "tr = \"../raw_data/saved_dataframes/train_dataset.csv\"\n",
    "va = \"../raw_data/saved_dataframes/validation_dataset.csv\"\n",
    "te = \"../raw_data/saved_dataframes/test_dataset.csv\""
   ]
  },
  {
   "cell_type": "code",
   "execution_count": 142,
   "id": "666fb6dd-c5fa-4405-9073-b14e8ac4a55b",
   "metadata": {},
   "outputs": [
    {
     "name": "stdout",
     "output_type": "stream",
     "text": [
      "Datasets match, proceed\n"
     ]
    },
    {
     "data": {
      "text/plain": [
       "dict_keys(['train_x', 'train_y', 'val_x', 'val_y', 'test_x', 'test_y'])"
      ]
     },
     "execution_count": 142,
     "metadata": {},
     "output_type": "execute_result"
    }
   ],
   "source": [
    "reload = LoadDataSets(tr,va,te)\n",
    "reload_dict = reload.load_datasets()\n",
    "reload_dict.keys()"
   ]
  },
  {
   "cell_type": "code",
   "execution_count": null,
   "id": "fc673249-3549-4451-a683-3cbedc785fc6",
   "metadata": {},
   "outputs": [],
   "source": []
  },
  {
   "cell_type": "markdown",
   "id": "6bab4829-f5a4-4e28-ac85-08b3bef3cc51",
   "metadata": {},
   "source": [
    "GENERATE CUSTOM LOADERS"
   ]
  },
  {
   "cell_type": "code",
   "execution_count": 143,
   "id": "1b68e554-6fcd-47f3-82c4-adc7d60a9bf6",
   "metadata": {},
   "outputs": [],
   "source": [
    "from lwb_smr.CustomDataLoader import CustomDataLoader"
   ]
  },
  {
   "cell_type": "code",
   "execution_count": 146,
   "id": "b0bc6a8d-1acd-4231-be10-f4739b19fae8",
   "metadata": {},
   "outputs": [],
   "source": [
    "datagen_train = CustomDataLoader(data_dict['train_x'],\"../raw_data/tiled_train_images/\",\n",
    "                                 data_dict['train_y'],\"../raw_data/tiled_test_images/\",\n",
    "                                 (250,250),\n",
    "                                 16)\n",
    "\n",
    "datagen_val  = CustomDataLoader(data_dict['val_x'],\"../raw_data/tiled_train_images/\",\n",
    "                                 data_dict['val_y'],\"../raw_data/tiled_test_images/\",\n",
    "                                (250,250),\n",
    "                                 16)\n",
    "\n",
    "datagen_test  = CustomDataLoader(data_dict['test_x'],\"../raw_data/tiled_train_images/\",\n",
    "                                 data_dict['test_x'],\"../raw_data/tiled_test_images/\",\n",
    "                                (250,250),\n",
    "                                 16)"
   ]
  },
  {
   "cell_type": "code",
   "execution_count": null,
   "id": "b38e4546-91f8-4f9f-8440-caa773782044",
   "metadata": {},
   "outputs": [],
   "source": []
  }
 ],
 "metadata": {
  "kernelspec": {
   "display_name": "Python 3 (ipykernel)",
   "language": "python",
   "name": "python3"
  },
  "language_info": {
   "codemirror_mode": {
    "name": "ipython",
    "version": 3
   },
   "file_extension": ".py",
   "mimetype": "text/x-python",
   "name": "python",
   "nbconvert_exporter": "python",
   "pygments_lexer": "ipython3",
   "version": "3.8.12"
  }
 },
 "nbformat": 4,
 "nbformat_minor": 5
}
