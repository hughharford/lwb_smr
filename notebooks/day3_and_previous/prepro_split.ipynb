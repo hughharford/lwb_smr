{
 "cells": [
  {
   "cell_type": "code",
   "execution_count": 33,
   "id": "24475dd5",
   "metadata": {},
   "outputs": [],
   "source": [
    "import os\n",
    "import cv2\n",
    "import math\n",
    "import numpy"
   ]
  },
  {
   "cell_type": "code",
   "execution_count": 34,
   "id": "98fb8684",
   "metadata": {},
   "outputs": [],
   "source": [
    "train_dir ='../data_samples/train_examples/'"
   ]
  },
  {
   "cell_type": "code",
   "execution_count": 48,
   "id": "3e613620",
   "metadata": {},
   "outputs": [],
   "source": [
    "# split each image in the train_dir into tiles of size tile_size and offset size\n",
    "\n",
    "def tile_split(train_dir,train_images):\n",
    "    tile_size = (250, 250)\n",
    "    offset = (250, 250)\n",
    "\n",
    "    \n",
    "    for str_name in train_images:\n",
    "        str_img_name = train_dir + '/' + str_name\n",
    "        img = cv2.imread(str_img_name) \n",
    "        img_shape = img.shape\n",
    "        for i in range(int(math.ceil(img_shape[0]/(offset[1] * 1.0)))):\n",
    "            for j in range(int(math.ceil(img_shape[1]/(offset[0] * 1.0)))):\n",
    "                cropped_img = img[offset[1]*i:min(offset[1]*i+tile_size[1], img_shape[0]), offset[0]*j:min(offset[0]*j+tile_size[0], img_shape[1])]\n",
    "                cv2.imwrite(str_name + \"_\" + str(i) + \"_\" + str(j) + \".tif\", cropped_img)\n",
    "                \n",
    "                "
   ]
  },
  {
   "cell_type": "code",
   "execution_count": 49,
   "id": "772f21b4",
   "metadata": {},
   "outputs": [
    {
     "name": "stdout",
     "output_type": "stream",
     "text": [
      "CPU times: user 364 ms, sys: 71.3 ms, total: 435 ms\n",
      "Wall time: 432 ms\n"
     ]
    }
   ],
   "source": [
    "%%time\n",
    "\n",
    "tile_split(train_dir,os.listdir(train_dir))\n"
   ]
  },
  {
   "cell_type": "code",
   "execution_count": null,
   "id": "dc9e4750",
   "metadata": {},
   "outputs": [],
   "source": []
  }
 ],
 "metadata": {
  "kernelspec": {
   "display_name": "Python 3 (ipykernel)",
   "language": "python",
   "name": "python3"
  },
  "language_info": {
   "codemirror_mode": {
    "name": "ipython",
    "version": 3
   },
   "file_extension": ".py",
   "mimetype": "text/x-python",
   "name": "python",
   "nbconvert_exporter": "python",
   "pygments_lexer": "ipython3",
   "version": "3.8.12"
  },
  "toc": {
   "base_numbering": 1,
   "nav_menu": {},
   "number_sections": true,
   "sideBar": true,
   "skip_h1_title": false,
   "title_cell": "Table of Contents",
   "title_sidebar": "Contents",
   "toc_cell": false,
   "toc_position": {},
   "toc_section_display": true,
   "toc_window_display": false
  }
 },
 "nbformat": 4,
 "nbformat_minor": 5
}
