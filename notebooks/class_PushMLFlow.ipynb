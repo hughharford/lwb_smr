{
 "cells": [
  {
   "cell_type": "code",
   "execution_count": null,
   "id": "096f7da1",
   "metadata": {},
   "outputs": [],
   "source": [
    "import mlflow\n",
    "from mlflow.tracking import MlflowClient\n",
    "from memoized_property import memoized_property"
   ]
  },
  {
   "cell_type": "markdown",
   "id": "39060b1c",
   "metadata": {},
   "source": [
    "Requirements to be sent in -"
   ]
  },
  {
   "cell_type": "code",
   "execution_count": null,
   "id": "87f7d633",
   "metadata": {},
   "outputs": [],
   "source": [
    "# MLFLOW_URI = \"https://mlflow.lewagon.ai/\"\n",
    "# EXPERIMENT_NAME = \"[UK] [LONDON] [SOLAR_ROOF] TEST RUN\"\n",
    "# EXPERIMENT_TAGS = {\n",
    "#     'USER': 'test_user',\n",
    "#     'RUN NAME': 'test runs',\n",
    "#     'VERSION': '1.0.1',\n",
    "#     'DESCRIPTION': 'testing MLFlow Pipeline. Model - basic U-Net structure, 2 epochs, 15 images'\n",
    "# }"
   ]
  },
  {
   "cell_type": "code",
   "execution_count": null,
   "id": "79102faa",
   "metadata": {},
   "outputs": [],
   "source": [
    "class PushMLFlow():\n",
    "    MLFLOW_URI = \"https://mlflow.lewagon.ai/\"\n",
    "    \n",
    "    def __init__(self, experiment_name, experiment_tags):\n",
    "        self.experiment_name = experiment_name\n",
    "        self.experiment_tag = experiment_tags\n",
    "        \n",
    "        pass\n",
    "    @memoized_property\n",
    "    def mlflow_client(self):\n",
    "        mlflow.set_tracking_uri(MLFLOW_URI)\n",
    "        return MlflowClient()\n",
    "\n",
    "    @memoized_property\n",
    "    def mlflow_experiment_id(self):\n",
    "        try:\n",
    "            return self.mlflow_client.create_experiment(self.experiment_name)\n",
    "        except BaseException:\n",
    "            return self.mlflow_client.get_experiment_by_name(self.experiment_name).experiment_id\n",
    "\n",
    "    @memoized_property\n",
    "    def mlflow_run(self):\n",
    "        return self.mlflow_client.create_run(self.mlflow_experiment_id, tags=self.experiment_tags)\n",
    "\n",
    "    def mlflow_log_param(self, key, value):\n",
    "        self.mlflow_client.log_param(self.mlflow_run.info.run_id, key, value)\n",
    "\n",
    "    def mlflow_log_metric(self, key, value):\n",
    "        self.mlflow_client.log_metric(self.mlflow_run.info.run_id, key, value)\n",
    "          \n",
    "    "
   ]
  }
 ],
 "metadata": {
  "kernelspec": {
   "display_name": "Python 3 (ipykernel)",
   "language": "python",
   "name": "python3"
  },
  "language_info": {
   "codemirror_mode": {
    "name": "ipython",
    "version": 3
   },
   "file_extension": ".py",
   "mimetype": "text/x-python",
   "name": "python",
   "nbconvert_exporter": "python",
   "pygments_lexer": "ipython3",
   "version": "3.8.13"
  },
  "toc": {
   "base_numbering": 1,
   "nav_menu": {},
   "number_sections": true,
   "sideBar": true,
   "skip_h1_title": false,
   "title_cell": "Table of Contents",
   "title_sidebar": "Contents",
   "toc_cell": false,
   "toc_position": {},
   "toc_section_display": true,
   "toc_window_display": false
  }
 },
 "nbformat": 4,
 "nbformat_minor": 5
}
