{
 "cells": [
  {
   "cell_type": "code",
   "execution_count": 1,
   "id": "4935c890",
   "metadata": {},
   "outputs": [],
   "source": [
    "def plot_comparison(X_true, y_true, y_pred, a=0, b=1, c=2):\n",
    "    \"\"\"\n",
    "    Function: Plots a 3x3 grid comparing test_image, mask_image, predicted_mask\n",
    "    Inputs: X_true - [NumPy array] - RGB Image\n",
    "            y_true - [NumPy array] - Mask of image to predict\n",
    "            y_pred - [NumPy array] - predicted mask \n",
    "            a, b, c - [integer] - index of images to select from arrays \n",
    "    \"\"\"\n",
    "    \n",
    "    f, axs = plt.subplots(3, 3, figsize=(12, 12))\n",
    "    titles = ['Test Image', 'Test Label', 'Prediction Label',\n",
    "             'Test Image', 'Test Label', 'Prediction Label',\n",
    "             'Test Image', 'Test Label', 'Prediction Label'\n",
    "             ]\n",
    "\n",
    "\n",
    "    ax1, ax2, ax3 = axs[0,0], axs[0,1], axs[0,2]\n",
    "    ax4, ax5, ax6 = axs[1,0], axs[1,1], axs[1,2]\n",
    "    ax7, ax8, ax9 = axs[2,0], axs[2,1], axs[2,2]\n",
    "    idx = random.sample(range(0, X_test[:,:,:,:].shape[0]), 3)\n",
    "\n",
    "    ax1.imshow(X_true[a,:,:,:])\n",
    "    ax1.set_title('Test Image')\n",
    "    ax2.imshow(y_true[a,:,:,0])\n",
    "    ax2.set_title('True Mask')\n",
    "    ax3.imshow(y_pred[a,:,:,0])\n",
    "    ax3.set_title('Predicted Mask')\n",
    "\n",
    "    ax4.imshow(X_true[b,:,:,:])\n",
    "    ax5.imshow(y_true[b,:,:,0])\n",
    "    ax6.imshow(y_pred[b,:,:,0])\n",
    "\n",
    "    ax7.imshow(X_true[c,:,:,:])\n",
    "    ax8.imshow(y_true[c,:,:,0])\n",
    "    ax9.imshow(y_pred[c,:,:,0])\n"
   ]
  }
 ],
 "metadata": {
  "kernelspec": {
   "display_name": "Python 3 (ipykernel)",
   "language": "python",
   "name": "python3"
  },
  "language_info": {
   "codemirror_mode": {
    "name": "ipython",
    "version": 3
   },
   "file_extension": ".py",
   "mimetype": "text/x-python",
   "name": "python",
   "nbconvert_exporter": "python",
   "pygments_lexer": "ipython3",
   "version": "3.8.13"
  },
  "toc": {
   "base_numbering": 1,
   "nav_menu": {},
   "number_sections": true,
   "sideBar": true,
   "skip_h1_title": false,
   "title_cell": "Table of Contents",
   "title_sidebar": "Contents",
   "toc_cell": false,
   "toc_position": {},
   "toc_section_display": true,
   "toc_window_display": false
  }
 },
 "nbformat": 4,
 "nbformat_minor": 5
}
