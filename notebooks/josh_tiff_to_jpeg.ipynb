{
 "cells": [
  {
   "cell_type": "code",
   "execution_count": 1,
   "id": "5085f539-b768-48e5-a36c-46238da484d8",
   "metadata": {},
   "outputs": [],
   "source": [
    "%load_ext autoreload\n",
    "%autoreload 2"
   ]
  },
  {
   "cell_type": "code",
   "execution_count": 2,
   "id": "f0f6bff6-c73a-4e98-9719-b7a715bc883f",
   "metadata": {},
   "outputs": [],
   "source": [
    "import numpy as np\n",
    "import pandas as pd\n",
    "from PIL import Image\n",
    "import matplotlib.pyplot as plt\n",
    "import os"
   ]
  },
  {
   "cell_type": "code",
   "execution_count": 4,
   "id": "d850c432-5c71-4164-92c7-9640d3e18b5e",
   "metadata": {},
   "outputs": [],
   "source": [
    "input_folder = \"../../raw_data/train_RGB_tiles/\"\n",
    "output_folder = \"../../raw_data/train_RGB_tiles_jpeg/\""
   ]
  },
  {
   "cell_type": "code",
   "execution_count": 9,
   "id": "b96ce1cf-6ee9-4f3b-b10f-a4f5269b1c65",
   "metadata": {},
   "outputs": [
    {
     "data": {
      "text/plain": [
       "72000"
      ]
     },
     "execution_count": 9,
     "metadata": {},
     "output_type": "execute_result"
    }
   ],
   "source": [
    "train_image_list = os.listdir(input_folder)\n",
    "# train_image_list = train_image_list[0:10]\n",
    "len(train_image_list)"
   ]
  },
  {
   "cell_type": "code",
   "execution_count": 10,
   "id": "05bea3d6-7c1e-45d6-957b-428dfe48e2d0",
   "metadata": {},
   "outputs": [
    {
     "name": "stdout",
     "output_type": "stream",
     "text": [
      "CPU times: user 3min 22s, sys: 18.1 s, total: 3min 40s\n",
      "Wall time: 58min 33s\n"
     ]
    }
   ],
   "source": [
    "%%time\n",
    "for im in train_image_list:\n",
    "    cim = Image.open(input_folder+im)\n",
    "    cim.save(output_folder+im.split(\".\")[0]+\".jpeg\")"
   ]
  },
  {
   "cell_type": "code",
   "execution_count": null,
   "id": "84b7e1c1-f62b-4926-93c8-1169ee64f704",
   "metadata": {},
   "outputs": [],
   "source": []
  },
  {
   "cell_type": "code",
   "execution_count": null,
   "id": "d1150364-61ec-4030-ab51-170eb9ad6878",
   "metadata": {},
   "outputs": [],
   "source": []
  },
  {
   "cell_type": "code",
   "execution_count": 11,
   "id": "54890b5a-5724-48dd-a256-bfcd82b9d955",
   "metadata": {},
   "outputs": [],
   "source": [
    "input_folder = \"../../raw_data/train_mask_tiles/\"\n",
    "output_folder = \"../../raw_data/train_mask_tiles_jpeg/\""
   ]
  },
  {
   "cell_type": "code",
   "execution_count": 13,
   "id": "847238b6-6224-49d3-9bdf-e59ca053d991",
   "metadata": {},
   "outputs": [
    {
     "data": {
      "text/plain": [
       "72000"
      ]
     },
     "execution_count": 13,
     "metadata": {},
     "output_type": "execute_result"
    }
   ],
   "source": [
    "train_image_list = os.listdir(input_folder)\n",
    "# train_image_list = train_image_list[0:10]\n",
    "len(train_image_list)"
   ]
  },
  {
   "cell_type": "code",
   "execution_count": 14,
   "id": "2b88093c-4ea0-44c5-baa1-07c3a8f56a5e",
   "metadata": {},
   "outputs": [
    {
     "name": "stdout",
     "output_type": "stream",
     "text": [
      "CPU times: user 1min 18s, sys: 11 s, total: 1min 29s\n",
      "Wall time: 19min 3s\n"
     ]
    }
   ],
   "source": [
    "%%time\n",
    "for im in train_image_list:\n",
    "    cim = Image.open(input_folder+im)\n",
    "    cim.save(output_folder+im.split(\".\")[0]+\".jpeg\")"
   ]
  },
  {
   "cell_type": "code",
   "execution_count": null,
   "id": "589eba97-ff7a-4bd4-89da-196b56bc15ab",
   "metadata": {},
   "outputs": [],
   "source": []
  }
 ],
 "metadata": {
  "environment": {
   "kernel": "python3",
   "name": "tf2-gpu.2-8.m93",
   "type": "gcloud",
   "uri": "gcr.io/deeplearning-platform-release/tf2-gpu.2-8:m93"
  },
  "kernelspec": {
   "display_name": "Python 3",
   "language": "python",
   "name": "python3"
  },
  "language_info": {
   "codemirror_mode": {
    "name": "ipython",
    "version": 3
   },
   "file_extension": ".py",
   "mimetype": "text/x-python",
   "name": "python",
   "nbconvert_exporter": "python",
   "pygments_lexer": "ipython3",
   "version": "3.7.12"
  }
 },
 "nbformat": 4,
 "nbformat_minor": 5
}
