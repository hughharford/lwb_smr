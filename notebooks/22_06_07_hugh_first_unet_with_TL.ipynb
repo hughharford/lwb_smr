{
 "cells": [
  {
   "cell_type": "markdown",
   "id": "ccbd9658-38ee-464d-872f-959afcd86820",
   "metadata": {},
   "source": [
    "# import statements"
   ]
  },
  {
   "cell_type": "code",
   "execution_count": 27,
   "id": "841f9771-f955-47fd-81b1-f62b0f982f6f",
   "metadata": {},
   "outputs": [],
   "source": [
    "from tensorflow.keras.layers import Input, Conv2D, MaxPooling2D, Activation, ReLU\n",
    "from tensorflow.keras.layers import BatchNormalization, Conv2DTranspose, Concatenate\n",
    "from tensorflow.keras.models import Model, Sequential \n",
    "from tensorflow.keras.utils import plot_model\n",
    "\n",
    "from tensorflow.keras.applications import VGG16"
   ]
  },
  {
   "cell_type": "markdown",
   "id": "585e4b15-b8df-484e-812a-1bee66e1a596",
   "metadata": {},
   "source": [
    "# define blocks for the model"
   ]
  },
  {
   "cell_type": "code",
   "execution_count": 55,
   "id": "aa70f9de-4c87-4389-8801-3a5d59bd419c",
   "metadata": {},
   "outputs": [],
   "source": [
    "# convolution block\n",
    "\n",
    "def convolution_block(inputs, num_filters):\n",
    "    # convolution layer 1 of the block\n",
    "    x = Conv2D(num_filters, (3,3), padding='same')(inputs)  # padding='same' to avoid cut-down with conv\n",
    "    x = BatchNormalization()(x)\n",
    "    x = Activation('relu')(x)\n",
    "    \n",
    "    # convolution layer 2 of the block\n",
    "    x = Conv2D(num_filters, (3,3), padding='same')(x) \n",
    "    x = BatchNormalization()(x)\n",
    "    x = Activation('relu')(x)\n",
    "    \n",
    "    # max pooling not used here as just the bridge\n",
    "    \n",
    "    return x"
   ]
  },
  {
   "cell_type": "code",
   "execution_count": 59,
   "id": "25c90de9-b73c-467a-acee-80d3c8916d7c",
   "metadata": {},
   "outputs": [],
   "source": [
    "# decoder block\n",
    "\n",
    "def decoder_block(inputs, skip_tensor, num_filters):\n",
    "    # adds in the skips with concatenate\n",
    "    x = Conv2DTranspose(num_filters, (2,2), strides=2, padding='same')(inputs) # stride important here to up-sample\n",
    "    x = Concatenate()([x, skip_tensor])     # bringing in skip layer\n",
    "    x = convolution_block(x, num_filters)\n",
    "    \n",
    "    return x"
   ]
  },
  {
   "cell_type": "markdown",
   "id": "5ae027c0-b870-4c3f-9bc3-3e197161f7ea",
   "metadata": {},
   "source": [
    "# set out model"
   ]
  },
  {
   "cell_type": "code",
   "execution_count": 69,
   "id": "49d20ff1-21a6-4d51-bfed-f64014f38a60",
   "metadata": {},
   "outputs": [],
   "source": [
    "# build vgg-16 \n",
    "\n",
    "def build_vgg16_unet(input_shape):\n",
    "    inputs = Input(input_shape)\n",
    "    \n",
    "    # see actual VGG-16 here: https://github.com/keras-team/keras/blob/v2.9.0/keras/applications/vgg16.py#L43-L227\n",
    "    vgg16 = VGG16(include_top=False, weights='imagenet', input_tensor=inputs)\n",
    "    # vgg16.summary()\n",
    "    vgg16.trainable = False\n",
    "    \n",
    "    ''' Encoder - skip layers '''\n",
    "    skip1 = vgg16.get_layer('block1_conv2').output #  256 x 256, 64 filters in vgg16\n",
    "    skip2 = vgg16.get_layer('block2_conv2').output #  128 x 128, 128 filters in vgg16\n",
    "    skip3 = vgg16.get_layer('block3_conv3').output #   64 x 64, 256 filters in vgg16\n",
    "    skip4 = vgg16.get_layer('block4_conv3').output #   32 x 32, 512 filters in vgg16\n",
    "    # display('skip4: ' + str(skip4.shape))\n",
    "    \n",
    "    # only need to specify the skip layers, as VGG16 is an Encoder\n",
    "    # Therefore, VGG16 comes built with MaxPool2d, so we don't specify\n",
    "    \n",
    "    ''' Bridge '''\n",
    "    bridge = vgg16.get_layer('block5_conv3').output # 16 x 16, with 512 filters in vgg16\n",
    "    # display('bridge: ' + str(bridge.shape))\n",
    "    \n",
    "    \n",
    "    ''' Decoder '''\n",
    "    d1 = decoder_block(bridge, skip4, 512) #  512 filters, as per the bridge\n",
    "    d2 = decoder_block(d1, skip3, 256) #  256 filters\n",
    "    d3 = decoder_block(d2, skip2, 128) #  128 filters\n",
    "    d4 = decoder_block(d3, skip1, 64)  #   64 filters\n",
    "    \n",
    "    ''' Output '''\n",
    "    outputs = Conv2D(1, (1,1), padding='same', activation='sigmoid')(d4)\n",
    "    \n",
    "    model = Model(inputs, outputs, name='first_VGG16_UNET') \n",
    "    \n",
    "    return model\n",
    "    "
   ]
  },
  {
   "cell_type": "code",
   "execution_count": 91,
   "id": "338cf8dc-f90a-4231-8931-4c3da0233afc",
   "metadata": {},
   "outputs": [],
   "source": [
    "our_input = (224,224,3)\n",
    "model = build_vgg16_unet(our_input)"
   ]
  },
  {
   "cell_type": "code",
   "execution_count": 92,
   "id": "8f3fde35-fced-40e1-ab42-5475706e4f6a",
   "metadata": {},
   "outputs": [],
   "source": [
    "def compile_model(m):\n",
    "    m.compile(\n",
    "        loss='binary_crossentropy',\n",
    "        optimizer='adam' \n",
    "    )\n",
    "    return m"
   ]
  },
  {
   "cell_type": "code",
   "execution_count": 93,
   "id": "4f053e9b-5704-4da7-8b06-2b8b192a7bef",
   "metadata": {},
   "outputs": [],
   "source": [
    "model = compile_model(model)"
   ]
  },
  {
   "cell_type": "markdown",
   "id": "2f88a4be-b463-43e1-b12c-e36f60932fb1",
   "metadata": {},
   "source": [
    "## Could do with a timestamp method for this"
   ]
  },
  {
   "cell_type": "code",
   "execution_count": 97,
   "id": "3f104afe-40a2-4da7-86c5-91fa05b7017c",
   "metadata": {},
   "outputs": [],
   "source": [
    "model_path_and_filename = '../models/first_UNET_input_shape_224x224x3.h5'\n",
    "model.save(model_path_and_filename)"
   ]
  },
  {
   "cell_type": "code",
   "execution_count": 74,
   "id": "f54c8c39-2071-4288-ae01-b4a40a3d964a",
   "metadata": {},
   "outputs": [],
   "source": [
    "# Calling `save('my_model')` creates a SavedModel folder `my_model`.\n",
    "# model.save(\"my_model\")\n",
    "# don't this way, harder work to reload and run a model (will require both the model and the code that created it)"
   ]
  },
  {
   "cell_type": "code",
   "execution_count": 95,
   "id": "6deacce7-3144-483c-8359-c5add19950ec",
   "metadata": {},
   "outputs": [],
   "source": [
    "# It can be used to reconstruct the model identically.\n",
    "reconstructed_model = keras.models.load_model(model_path_and_filename)"
   ]
  },
  {
   "cell_type": "code",
   "execution_count": null,
   "id": "705b0c2f-aeb2-42e7-915e-4a409bd69a51",
   "metadata": {},
   "outputs": [],
   "source": [
    "# getting data in using tf dataset\n",
    "\n",
    "# tf.dataset tensorslices\n",
    "\n",
    "# using decode.tif "
   ]
  },
  {
   "cell_type": "code",
   "execution_count": 68,
   "id": "6c47f0a4-56b0-4f09-94b5-987177a2c2c4",
   "metadata": {},
   "outputs": [
    {
     "name": "stdout",
     "output_type": "stream",
     "text": [
      "Model: \"first_VGG16_UNET\"\n",
      "__________________________________________________________________________________________________\n",
      " Layer (type)                   Output Shape         Param #     Connected to                     \n",
      "==================================================================================================\n",
      " input_21 (InputLayer)          [(None, 224, 224, 3  0           []                               \n",
      "                                )]                                                                \n",
      "                                                                                                  \n",
      " block1_conv1 (Conv2D)          (None, 224, 224, 64  1792        ['input_21[0][0]']               \n",
      "                                )                                                                 \n",
      "                                                                                                  \n",
      " block1_conv2 (Conv2D)          (None, 224, 224, 64  36928       ['block1_conv1[0][0]']           \n",
      "                                )                                                                 \n",
      "                                                                                                  \n",
      " block1_pool (MaxPooling2D)     (None, 112, 112, 64  0           ['block1_conv2[0][0]']           \n",
      "                                )                                                                 \n",
      "                                                                                                  \n",
      " block2_conv1 (Conv2D)          (None, 112, 112, 12  73856       ['block1_pool[0][0]']            \n",
      "                                8)                                                                \n",
      "                                                                                                  \n",
      " block2_conv2 (Conv2D)          (None, 112, 112, 12  147584      ['block2_conv1[0][0]']           \n",
      "                                8)                                                                \n",
      "                                                                                                  \n",
      " block2_pool (MaxPooling2D)     (None, 56, 56, 128)  0           ['block2_conv2[0][0]']           \n",
      "                                                                                                  \n",
      " block3_conv1 (Conv2D)          (None, 56, 56, 256)  295168      ['block2_pool[0][0]']            \n",
      "                                                                                                  \n",
      " block3_conv2 (Conv2D)          (None, 56, 56, 256)  590080      ['block3_conv1[0][0]']           \n",
      "                                                                                                  \n",
      " block3_conv3 (Conv2D)          (None, 56, 56, 256)  590080      ['block3_conv2[0][0]']           \n",
      "                                                                                                  \n",
      " block3_pool (MaxPooling2D)     (None, 28, 28, 256)  0           ['block3_conv3[0][0]']           \n",
      "                                                                                                  \n",
      " block4_conv1 (Conv2D)          (None, 28, 28, 512)  1180160     ['block3_pool[0][0]']            \n",
      "                                                                                                  \n",
      " block4_conv2 (Conv2D)          (None, 28, 28, 512)  2359808     ['block4_conv1[0][0]']           \n",
      "                                                                                                  \n",
      " block4_conv3 (Conv2D)          (None, 28, 28, 512)  2359808     ['block4_conv2[0][0]']           \n",
      "                                                                                                  \n",
      " block4_pool (MaxPooling2D)     (None, 14, 14, 512)  0           ['block4_conv3[0][0]']           \n",
      "                                                                                                  \n",
      " block5_conv1 (Conv2D)          (None, 14, 14, 512)  2359808     ['block4_pool[0][0]']            \n",
      "                                                                                                  \n",
      " block5_conv2 (Conv2D)          (None, 14, 14, 512)  2359808     ['block5_conv1[0][0]']           \n",
      "                                                                                                  \n",
      " block5_conv3 (Conv2D)          (None, 14, 14, 512)  2359808     ['block5_conv2[0][0]']           \n",
      "                                                                                                  \n",
      " conv2d_transpose_23 (Conv2DTra  (None, 28, 28, 256)  524544     ['block5_conv3[0][0]']           \n",
      " nspose)                                                                                          \n",
      "                                                                                                  \n",
      " concatenate_21 (Concatenate)   (None, 28, 28, 768)  0           ['conv2d_transpose_23[0][0]',    \n",
      "                                                                  'block4_conv3[0][0]']           \n",
      "                                                                                                  \n",
      " conv2d_29 (Conv2D)             (None, 28, 28, 256)  1769728     ['concatenate_21[0][0]']         \n",
      "                                                                                                  \n",
      " batch_normalization_24 (BatchN  (None, 28, 28, 256)  1024       ['conv2d_29[0][0]']              \n",
      " ormalization)                                                                                    \n",
      "                                                                                                  \n",
      " activation_24 (Activation)     (None, 28, 28, 256)  0           ['batch_normalization_24[0][0]'] \n",
      "                                                                                                  \n",
      " conv2d_30 (Conv2D)             (None, 28, 28, 256)  590080      ['activation_24[0][0]']          \n",
      "                                                                                                  \n",
      " batch_normalization_25 (BatchN  (None, 28, 28, 256)  1024       ['conv2d_30[0][0]']              \n",
      " ormalization)                                                                                    \n",
      "                                                                                                  \n",
      " activation_25 (Activation)     (None, 28, 28, 256)  0           ['batch_normalization_25[0][0]'] \n",
      "                                                                                                  \n",
      " conv2d_transpose_24 (Conv2DTra  (None, 56, 56, 128)  131200     ['activation_25[0][0]']          \n",
      " nspose)                                                                                          \n",
      "                                                                                                  \n",
      " concatenate_22 (Concatenate)   (None, 56, 56, 384)  0           ['conv2d_transpose_24[0][0]',    \n",
      "                                                                  'block3_conv3[0][0]']           \n",
      "                                                                                                  \n",
      " conv2d_31 (Conv2D)             (None, 56, 56, 128)  442496      ['concatenate_22[0][0]']         \n",
      "                                                                                                  \n",
      " batch_normalization_26 (BatchN  (None, 56, 56, 128)  512        ['conv2d_31[0][0]']              \n",
      " ormalization)                                                                                    \n",
      "                                                                                                  \n",
      " activation_26 (Activation)     (None, 56, 56, 128)  0           ['batch_normalization_26[0][0]'] \n",
      "                                                                                                  \n",
      " conv2d_32 (Conv2D)             (None, 56, 56, 128)  147584      ['activation_26[0][0]']          \n",
      "                                                                                                  \n",
      " batch_normalization_27 (BatchN  (None, 56, 56, 128)  512        ['conv2d_32[0][0]']              \n",
      " ormalization)                                                                                    \n",
      "                                                                                                  \n",
      " activation_27 (Activation)     (None, 56, 56, 128)  0           ['batch_normalization_27[0][0]'] \n",
      "                                                                                                  \n",
      " conv2d_transpose_25 (Conv2DTra  (None, 112, 112, 64  32832      ['activation_27[0][0]']          \n",
      " nspose)                        )                                                                 \n",
      "                                                                                                  \n",
      " concatenate_23 (Concatenate)   (None, 112, 112, 19  0           ['conv2d_transpose_25[0][0]',    \n",
      "                                2)                                'block2_conv2[0][0]']           \n",
      "                                                                                                  \n",
      " conv2d_33 (Conv2D)             (None, 112, 112, 64  110656      ['concatenate_23[0][0]']         \n",
      "                                )                                                                 \n",
      "                                                                                                  \n",
      " batch_normalization_28 (BatchN  (None, 112, 112, 64  256        ['conv2d_33[0][0]']              \n",
      " ormalization)                  )                                                                 \n",
      "                                                                                                  \n",
      " activation_28 (Activation)     (None, 112, 112, 64  0           ['batch_normalization_28[0][0]'] \n",
      "                                )                                                                 \n",
      "                                                                                                  \n",
      " conv2d_34 (Conv2D)             (None, 112, 112, 64  36928       ['activation_28[0][0]']          \n",
      "                                )                                                                 \n",
      "                                                                                                  \n",
      " batch_normalization_29 (BatchN  (None, 112, 112, 64  256        ['conv2d_34[0][0]']              \n",
      " ormalization)                  )                                                                 \n",
      "                                                                                                  \n",
      " activation_29 (Activation)     (None, 112, 112, 64  0           ['batch_normalization_29[0][0]'] \n",
      "                                )                                                                 \n",
      "                                                                                                  \n",
      " conv2d_transpose_26 (Conv2DTra  (None, 224, 224, 32  8224       ['activation_29[0][0]']          \n",
      " nspose)                        )                                                                 \n",
      "                                                                                                  \n",
      " concatenate_24 (Concatenate)   (None, 224, 224, 96  0           ['conv2d_transpose_26[0][0]',    \n",
      "                                )                                 'block1_conv2[0][0]']           \n",
      "                                                                                                  \n",
      " conv2d_35 (Conv2D)             (None, 224, 224, 32  27680       ['concatenate_24[0][0]']         \n",
      "                                )                                                                 \n",
      "                                                                                                  \n",
      " batch_normalization_30 (BatchN  (None, 224, 224, 32  128        ['conv2d_35[0][0]']              \n",
      " ormalization)                  )                                                                 \n",
      "                                                                                                  \n",
      " activation_30 (Activation)     (None, 224, 224, 32  0           ['batch_normalization_30[0][0]'] \n",
      "                                )                                                                 \n",
      "                                                                                                  \n",
      " conv2d_36 (Conv2D)             (None, 224, 224, 32  9248        ['activation_30[0][0]']          \n",
      "                                )                                                                 \n",
      "                                                                                                  \n",
      " batch_normalization_31 (BatchN  (None, 224, 224, 32  128        ['conv2d_36[0][0]']              \n",
      " ormalization)                  )                                                                 \n",
      "                                                                                                  \n",
      " activation_31 (Activation)     (None, 224, 224, 32  0           ['batch_normalization_31[0][0]'] \n",
      "                                )                                                                 \n",
      "                                                                                                  \n",
      " conv2d_37 (Conv2D)             (None, 224, 224, 1)  33          ['activation_31[0][0]']          \n",
      "                                                                                                  \n",
      "==================================================================================================\n",
      "Total params: 18,549,761\n",
      "Trainable params: 3,833,153\n",
      "Non-trainable params: 14,716,608\n",
      "__________________________________________________________________________________________________\n"
     ]
    }
   ],
   "source": [
    "model.summary()\n",
    "# Total params: 18,549,761\n",
    "# Trainable params: 3,833,153\n",
    "# Non-trainable params: 14,716,608"
   ]
  },
  {
   "cell_type": "code",
   "execution_count": null,
   "id": "99d42427-1785-4e48-b923-6bb2c636b0d8",
   "metadata": {},
   "outputs": [],
   "source": []
  }
 ],
 "metadata": {
  "kernelspec": {
   "display_name": "Python 3 (ipykernel)",
   "language": "python",
   "name": "python3"
  },
  "language_info": {
   "codemirror_mode": {
    "name": "ipython",
    "version": 3
   },
   "file_extension": ".py",
   "mimetype": "text/x-python",
   "name": "python",
   "nbconvert_exporter": "python",
   "pygments_lexer": "ipython3",
   "version": "3.8.12"
  }
 },
 "nbformat": 4,
 "nbformat_minor": 5
}
