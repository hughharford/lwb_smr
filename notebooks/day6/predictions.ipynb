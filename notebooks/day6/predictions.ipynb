{
 "cells": [
  {
   "cell_type": "code",
   "execution_count": 1,
   "id": "6fc8fabb-b1c2-47ea-a17c-dab2a8ac5441",
   "metadata": {},
   "outputs": [],
   "source": [
    "%load_ext autoreload\n",
    "%autoreload 2"
   ]
  },
  {
   "cell_type": "code",
   "execution_count": 3,
   "id": "ccd4e7c9-2c51-4c58-a6ca-86132617b59d",
   "metadata": {},
   "outputs": [],
   "source": [
    "import numpy as np\n",
    "import pandas as pd\n",
    "from PIL import Image,ImageOps\n",
    "import matplotlib.pyplot as plt\n",
    "import os\n",
    "from lwb_smr.predict import PredictRoof"
   ]
  },
  {
   "cell_type": "code",
   "execution_count": 5,
   "id": "234d348c-5423-48c9-8599-0e36fffe5c38",
   "metadata": {},
   "outputs": [
    {
     "name": "stdout",
     "output_type": "stream",
     "text": [
      "completed tiling prediction_input_image\n",
      "13/13 [==============================] - 83s 6s/step\n",
      "CPU times: user 19min 12s, sys: 1min 43s, total: 20min 55s\n",
      "Wall time: 1min 25s\n"
     ]
    }
   ],
   "source": [
    "%%time\n",
    "pred_roof = PredictRoof()\n",
    "pred_roof.tile_split('austin3.tif')\n",
    "roof_images = pred_roof.perform_prediction('Josh_model_vertexAI_08_FULL_dataset_BCE.h5')\n",
    "pred_roof.output_mask(roof_images)"
   ]
  },
  {
   "cell_type": "code",
   "execution_count": 6,
   "id": "4e9fd719-cdc1-4824-a3b6-8bf53c462ddd",
   "metadata": {},
   "outputs": [
    {
     "name": "stdout",
     "output_type": "stream",
     "text": [
      "completed tiling prediction_input_image\n",
      "1/1 [==============================] - 5s 5s/step\n",
      "CPU times: user 1min 12s, sys: 8.17 s, total: 1min 20s\n",
      "Wall time: 6.34 s\n"
     ]
    }
   ],
   "source": [
    "%%time\n",
    "pred_roof_google = PredictRoof()\n",
    "pred_roof_google.tile_split('lewagon_london.jpg',256,256)\n",
    "roof_images_google = pred_roof_google.perform_prediction('Josh_model_vertexAI_08_FULL_dataset_BCE.h5')\n",
    "pred_roof_google.output_mask(roof_images_google)"
   ]
  },
  {
   "cell_type": "code",
   "execution_count": null,
   "id": "da5f1955-2094-43bc-bd04-7fc3b8e44442",
   "metadata": {},
   "outputs": [],
   "source": []
  }
 ],
 "metadata": {
  "kernelspec": {
   "display_name": "Python 3 (ipykernel)",
   "language": "python",
   "name": "python3"
  },
  "language_info": {
   "codemirror_mode": {
    "name": "ipython",
    "version": 3
   },
   "file_extension": ".py",
   "mimetype": "text/x-python",
   "name": "python",
   "nbconvert_exporter": "python",
   "pygments_lexer": "ipython3",
   "version": "3.8.12"
  }
 },
 "nbformat": 4,
 "nbformat_minor": 5
}
