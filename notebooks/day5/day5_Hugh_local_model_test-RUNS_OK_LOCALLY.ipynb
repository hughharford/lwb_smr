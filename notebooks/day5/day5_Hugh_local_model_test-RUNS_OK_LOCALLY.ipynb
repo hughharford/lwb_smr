{
 "cells": [
  {
   "cell_type": "code",
   "execution_count": 26,
   "id": "3071d616-5395-42db-967c-96027b6d9ca7",
   "metadata": {},
   "outputs": [
    {
     "name": "stdout",
     "output_type": "stream",
     "text": [
      "The autoreload extension is already loaded. To reload it, use:\n",
      "  %reload_ext autoreload\n"
     ]
    }
   ],
   "source": [
    "%load_ext autoreload\n",
    "%autoreload 2"
   ]
  },
  {
   "cell_type": "code",
   "execution_count": 27,
   "id": "43f1a4de-586b-4031-a2d0-fcaa5468e94e",
   "metadata": {},
   "outputs": [],
   "source": [
    "import numpy as np\n",
    "import pandas as pd\n",
    "import os\n",
    "from lwb_smr.data import GetData, LoadDataSets\n",
    "from lwb_smr.CustomDataLoader import CustomDataLoader"
   ]
  },
  {
   "cell_type": "code",
   "execution_count": 28,
   "id": "e8c8ba4d-e570-4986-8da5-1bf1958eba47",
   "metadata": {},
   "outputs": [],
   "source": [
    "from lwb_smr.test_trainer import Test_Trainer\n",
    "from lwb_smr.trainer import Trainer"
   ]
  },
  {
   "cell_type": "code",
   "execution_count": 29,
   "id": "41d3c7dc-9845-4e4b-9b55-ae37e4cd9b5c",
   "metadata": {},
   "outputs": [],
   "source": [
    "train_csv = \"../raw_data/image_datasets_csv/train_dataset.csv\"\n",
    "val_csv = \"../raw_data/image_datasets_csv/validation_dataset.csv\"\n",
    "test_csv = \"../raw_data/image_datasets_csv/test_dataset.csv\""
   ]
  },
  {
   "cell_type": "code",
   "execution_count": 30,
   "id": "8a0174a1-c220-456a-bb69-72d027664be7",
   "metadata": {},
   "outputs": [
    {
     "name": "stdout",
     "output_type": "stream",
     "text": [
      "Datasets match, proceed\n"
     ]
    },
    {
     "data": {
      "text/plain": [
       "['tyrol-w23_x19_y16.jpeg',\n",
       " 'chicago12_x00_y08.jpeg',\n",
       " 'kitsap2_x09_y02.jpeg',\n",
       " 'tyrol-w22_x18_y09.jpeg',\n",
       " 'vienna19_x16_y08.jpeg']"
      ]
     },
     "execution_count": 30,
     "metadata": {},
     "output_type": "execute_result"
    }
   ],
   "source": [
    "data_dict = LoadDataSets(train_csv,val_csv,test_csv).load_datasets()\n",
    "data_dict['train_x'][0:5]"
   ]
  },
  {
   "cell_type": "markdown",
   "id": "3579e2fa-e7ca-454f-8ed9-a91462884028",
   "metadata": {},
   "source": [
    "# TEST RUN"
   ]
  },
  {
   "cell_type": "code",
   "execution_count": 31,
   "id": "0ba968c7-b747-488d-9c9f-d202a41e6cca",
   "metadata": {},
   "outputs": [],
   "source": [
    "from lwb_smr.test_trainer import Test_Trainer"
   ]
  },
  {
   "cell_type": "code",
   "execution_count": 32,
   "id": "04e4c98d-0dee-40d4-9611-2efbc3c47a71",
   "metadata": {},
   "outputs": [
    {
     "name": "stdout",
     "output_type": "stream",
     "text": [
      "{'train_csv': '/home/hsth/code/hughharford/lwb_smr/raw_data/image_datasets_csv/train_dataset.csv', 'val_csv': '/home/hsth/code/hughharford/lwb_smr/raw_data/image_datasets_csv/validation_dataset.csv', 'test_csv': '/home/hsth/code/hughharford/lwb_smr/raw_data/image_datasets_csv/test_dataset.csv'}\n",
      "Datasets match, proceed\n"
     ]
    }
   ],
   "source": [
    "model = Test_Trainer()"
   ]
  },
  {
   "cell_type": "code",
   "execution_count": 33,
   "id": "adca05bf-4dbb-4e78-a0c4-0b797c945282",
   "metadata": {},
   "outputs": [
    {
     "name": "stdout",
     "output_type": "stream",
     "text": [
      "/home/hsth/code/hughharford/lwb_smr/notebooks\n"
     ]
    }
   ],
   "source": [
    "!pwd"
   ]
  },
  {
   "cell_type": "code",
   "execution_count": null,
   "id": "0ea8902d-b22a-43e0-a5d7-f441b40d41e0",
   "metadata": {},
   "outputs": [
    {
     "name": "stdout",
     "output_type": "stream",
     "text": [
      "--------------------------------------------------------------------------------\n",
      "------LOADING TRAIN DATA------\n",
      "................................................................................\n",
      "------SUCCESS------\n",
      "--------------------------------------------------------------------------------\n",
      "------LOADING VALIDATION DATA------\n",
      "................................................................................\n",
      "------SUCCESS------\n",
      "Epoch 1/2\n"
     ]
    },
    {
     "name": "stderr",
     "output_type": "stream",
     "text": [
      "2022-06-10 14:10:15.456123: W tensorflow/core/framework/cpu_allocator_impl.cc:82] Allocation of 102760448 exceeds 10% of free system memory.\n",
      "2022-06-10 14:10:15.562288: W tensorflow/core/framework/cpu_allocator_impl.cc:82] Allocation of 102760448 exceeds 10% of free system memory.\n",
      "2022-06-10 14:10:15.870064: W tensorflow/core/framework/cpu_allocator_impl.cc:82] Allocation of 25690112 exceeds 10% of free system memory.\n",
      "2022-06-10 14:10:15.881288: W tensorflow/core/framework/cpu_allocator_impl.cc:82] Allocation of 51380224 exceeds 10% of free system memory.\n",
      "2022-06-10 14:10:15.978088: W tensorflow/core/framework/cpu_allocator_impl.cc:82] Allocation of 51380224 exceeds 10% of free system memory.\n"
     ]
    }
   ],
   "source": [
    "%%time\n",
    "model.run()"
   ]
  },
  {
   "cell_type": "code",
   "execution_count": 1,
   "id": "199f5402-bb5e-479e-8b7b-cd80bf5d7749",
   "metadata": {},
   "outputs": [],
   "source": [
    "# !ls ../raw_data/train_RGB_tiles_jpeg/tyrol* "
   ]
  },
  {
   "cell_type": "code",
   "execution_count": 23,
   "id": "92f7901f-e6d7-4ca2-b4f6-5c4abd5d0b51",
   "metadata": {},
   "outputs": [
    {
     "name": "stdout",
     "output_type": "stream",
     "text": [
      "AerialImageDataset\t    image_datasets_csv\t    train_mask_tiles_jpeg\n",
      "checkpoints\t\t    image_datasets_csv.zip  train_RGB_tiles_jpeg\n",
      "data_vertex_data_jpegs.zip  models\n",
      "ex\t\t\t    tiles\n"
     ]
    }
   ],
   "source": [
    "!ls ../raw_data/"
   ]
  },
  {
   "cell_type": "code",
   "execution_count": null,
   "id": "e6b2ceee-c1bd-46d6-8a96-b88a3fd5fc98",
   "metadata": {},
   "outputs": [],
   "source": []
  }
 ],
 "metadata": {
  "kernelspec": {
   "display_name": "Python 3 (ipykernel)",
   "language": "python",
   "name": "python3"
  },
  "language_info": {
   "codemirror_mode": {
    "name": "ipython",
    "version": 3
   },
   "file_extension": ".py",
   "mimetype": "text/x-python",
   "name": "python",
   "nbconvert_exporter": "python",
   "pygments_lexer": "ipython3",
   "version": "3.8.12"
  }
 },
 "nbformat": 4,
 "nbformat_minor": 5
}
