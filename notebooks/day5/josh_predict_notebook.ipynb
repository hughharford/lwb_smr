{
 "cells": [
  {
   "cell_type": "code",
   "execution_count": 1,
   "id": "b40ba5c1-58a2-415f-812c-b18faa7b8a0d",
   "metadata": {},
   "outputs": [],
   "source": [
    "%load_ext autoreload\n",
    "%autoreload 2"
   ]
  },
  {
   "cell_type": "code",
   "execution_count": 2,
   "id": "3a9a51dd-5425-4065-83a5-8dedda0f5da0",
   "metadata": {},
   "outputs": [],
   "source": [
    "import numpy as np\n",
    "import pandas as pd\n",
    "from PIL import Image\n",
    "import matplotlib.pyplot as plt\n",
    "import os"
   ]
  },
  {
   "cell_type": "code",
   "execution_count": 27,
   "id": "58343bf2-810b-4d0a-af49-3b5759fc891b",
   "metadata": {
    "tags": []
   },
   "outputs": [
    {
     "name": "stdout",
     "output_type": "stream",
     "text": [
      "CPU times: user 6 µs, sys: 0 ns, total: 6 µs\n",
      "Wall time: 9.3 µs\n"
     ]
    }
   ],
   "source": [
    "%%time\n",
    "def tile_split(image_file, output_folder):\n",
    "    ''' Function to take an input image and tile it with no overlap/strides\n",
    "        ensure following is specified:\n",
    "           - input image directory\n",
    "           - individual image files\n",
    "           - the desired output folder\n",
    "    '''\n",
    "    tile_height = 250\n",
    "    tile_width = 250\n",
    "    tile_size = (tile_width, tile_height)\n",
    "    # Read in image file and convert to numpy array\n",
    "    # filepath = img_directory+image_file\n",
    "    image = Image.open(image_file)\n",
    "    image = np.asarray(image)\n",
    "    \n",
    "    # from np array, get image total width and height\n",
    "    img_height, img_width, channels = image.shape\n",
    "\n",
    "    # create numpy array of zeros to fill in from the image data\n",
    "    tiled_array = np.zeros((img_height // tile_height,\n",
    "                           img_width // tile_width,\n",
    "                           tile_height,\n",
    "                           tile_width,\n",
    "                           channels))\n",
    "    \n",
    "    # initialise at 0 for x and y positions\n",
    "    # then loop through adding the tiles\n",
    "    y = x = 0\n",
    "    for i in range(0, img_height, tile_height):\n",
    "        for j in range(0, img_width, tile_width):\n",
    "            tiled_array[y][x] = image[i:i+tile_height,\n",
    "                                      j:j+tile_width,\n",
    "                                      :channels]\n",
    "            x += 1\n",
    "        y += 1\n",
    "        x = 0\n",
    "    \n",
    "    # output tiled images to specified folder\n",
    "    # first read image name\n",
    "    image_name = 'prediction_input_image'\n",
    "    \n",
    "    # loop through images contained in the array\n",
    "    for ximg in range(tiled_array.shape[0]):\n",
    "        for yimg in range(tiled_array.shape[1]):\n",
    "                # give custom name to each image and then save each\n",
    "                # in specified location\n",
    "                tile_name = f\"{image_name}_x{ximg:02d}_y{yimg:02d}.jpg\"\n",
    "                im = Image.fromarray(tiled_array[ximg][yimg].astype(np.uint8))\n",
    "                im.save(output_folder+tile_name)\n",
    "    \n",
    "    \n",
    "    \n",
    "    return print(f\"completed tiling {image_name}\")"
   ]
  },
  {
   "cell_type": "code",
   "execution_count": 34,
   "id": "c916b26a-b691-44cd-926e-fcca3f94d78f",
   "metadata": {},
   "outputs": [],
   "source": [
    "input_image = \"../../raw_data/prediction/austin3.tif\"\n",
    "output_folder = \"../../raw_data/prediction/prediction_tiles_input/\""
   ]
  },
  {
   "cell_type": "code",
   "execution_count": 21,
   "id": "0901de6d-2667-42f7-a008-118a4ce1cb38",
   "metadata": {},
   "outputs": [
    {
     "name": "stdout",
     "output_type": "stream",
     "text": [
      "completed tiling prediction_input_image\n",
      "CPU times: user 337 ms, sys: 403 ms, total: 740 ms\n",
      "Wall time: 739 ms\n"
     ]
    }
   ],
   "source": [
    "%%time\n",
    "tile_split(input_image,output_folder)"
   ]
  },
  {
   "cell_type": "code",
   "execution_count": 35,
   "id": "9a301e55-534e-472a-9b4d-40474e1dcde1",
   "metadata": {},
   "outputs": [
    {
     "name": "stdout",
     "output_type": "stream",
     "text": [
      "completed tiling prediction_input_image\n",
      "CPU times: user 282 ms, sys: 316 ms, total: 598 ms\n",
      "Wall time: 596 ms\n"
     ]
    }
   ],
   "source": [
    "%%time\n",
    "tile_split(input_image,output_folder)"
   ]
  },
  {
   "cell_type": "code",
   "execution_count": null,
   "id": "5a391ab7-332a-47f7-8c20-75cf55ebe754",
   "metadata": {},
   "outputs": [],
   "source": [
    "# tif split = 739ms\n",
    "# tif convert tiles to jpeg = 344ms"
   ]
  },
  {
   "cell_type": "code",
   "execution_count": 22,
   "id": "89470177-8073-46ec-a9a3-df4ad6a92be3",
   "metadata": {},
   "outputs": [],
   "source": [
    "prediction_image_list = os.listdir(\"../../raw_data/prediction/prediction_tiles_input/\")"
   ]
  },
  {
   "cell_type": "code",
   "execution_count": 23,
   "id": "00610e89-4a66-4322-ba5a-1b08e018e60e",
   "metadata": {},
   "outputs": [
    {
     "name": "stdout",
     "output_type": "stream",
     "text": [
      "CPU times: user 246 ms, sys: 92.3 ms, total: 338 ms\n",
      "Wall time: 344 ms\n"
     ]
    }
   ],
   "source": [
    "%%time\n",
    "for im in prediction_image_list:\n",
    "    cim = Image.open(output_folder+im)\n",
    "    cim.save(output_folder+im.split(\".\")[0]+\".jpeg\")"
   ]
  },
  {
   "cell_type": "code",
   "execution_count": 24,
   "id": "af1fb866-bb52-400b-b2a5-914cf0f1bac0",
   "metadata": {},
   "outputs": [
    {
     "name": "stdout",
     "output_type": "stream",
     "text": [
      "CPU times: user 149 ms, sys: 77.5 ms, total: 227 ms\n",
      "Wall time: 226 ms\n"
     ]
    }
   ],
   "source": [
    "%%time\n",
    "imgjpg = Image.open(\"../../raw_data/prediction/austin3.tif\")\n",
    "imgjpg.save(\"../../raw_data/prediction/austin3.jpg\")"
   ]
  },
  {
   "cell_type": "code",
   "execution_count": 33,
   "id": "2be93058-6fac-43e0-b750-9c4a2a633f5b",
   "metadata": {},
   "outputs": [],
   "source": [
    "# 5k tif to jpeg conversion = 226ms\n",
    "# jpg tile split = 634ms"
   ]
  },
  {
   "cell_type": "code",
   "execution_count": 30,
   "id": "5458051d-de05-40e9-9c2c-58abf0a843ee",
   "metadata": {},
   "outputs": [],
   "source": [
    "input_image_jpg = \"../../raw_data/prediction/austin3.jpg\""
   ]
  },
  {
   "cell_type": "code",
   "execution_count": 31,
   "id": "36602386-261b-4bda-a276-f789f2e39320",
   "metadata": {},
   "outputs": [
    {
     "name": "stdout",
     "output_type": "stream",
     "text": [
      "completed tiling prediction_input_image\n",
      "CPU times: user 405 ms, sys: 230 ms, total: 635 ms\n",
      "Wall time: 634 ms\n"
     ]
    }
   ],
   "source": [
    "%%time\n",
    "tile_split(input_image_jpg,output_folder)"
   ]
  },
  {
   "cell_type": "code",
   "execution_count": 32,
   "id": "75a1dfc5-a071-4ede-bb51-9ac52054d3da",
   "metadata": {},
   "outputs": [
    {
     "name": "stdout",
     "output_type": "stream",
     "text": [
      "1083 860\n"
     ]
    }
   ],
   "source": [
    "tif_tile_jpg = 739 + 344\n",
    "tif_jpg_tile = 226 + 634\n",
    "print(tif_tile_jpg, tif_jpg_tile)"
   ]
  },
  {
   "cell_type": "code",
   "execution_count": 5,
   "id": "68077210-58ef-4987-bb0a-fe6c7f37bb3c",
   "metadata": {},
   "outputs": [],
   "source": [
    "from lwb_smr.CustomDataLoaderPredict import CustomDataLoaderPredict"
   ]
  },
  {
   "cell_type": "code",
   "execution_count": 14,
   "id": "bf6ff204-3f51-46d8-90b5-bfa14233173f",
   "metadata": {},
   "outputs": [
    {
     "data": {
      "text/plain": [
       "()"
      ]
     },
     "execution_count": 14,
     "metadata": {},
     "output_type": "execute_result"
    }
   ],
   "source": [
    "PredictRoof.__init__.__code__.co_freevars"
   ]
  },
  {
   "cell_type": "code",
   "execution_count": 20,
   "id": "7130a5bb-2c33-44e8-a371-633e1e07bdff",
   "metadata": {},
   "outputs": [
    {
     "ename": "NameError",
     "evalue": "name 'lwb_smr' is not defined",
     "output_type": "error",
     "traceback": [
      "\u001b[0;31m---------------------------------------------------------------------------\u001b[0m",
      "\u001b[0;31mNameError\u001b[0m                                 Traceback (most recent call last)",
      "\u001b[0;32m/tmp/ipykernel_20920/1562818860.py\u001b[0m in \u001b[0;36m<module>\u001b[0;34m\u001b[0m\n\u001b[1;32m      1\u001b[0m \u001b[0;32mfrom\u001b[0m \u001b[0mimportlib\u001b[0m \u001b[0;32mimport\u001b[0m \u001b[0mreload\u001b[0m\u001b[0;34m\u001b[0m\u001b[0;34m\u001b[0m\u001b[0m\n\u001b[0;32m----> 2\u001b[0;31m \u001b[0mreload\u001b[0m\u001b[0;34m(\u001b[0m\u001b[0mlwb_smr\u001b[0m\u001b[0;34m)\u001b[0m\u001b[0;34m\u001b[0m\u001b[0;34m\u001b[0m\u001b[0m\n\u001b[0m",
      "\u001b[0;31mNameError\u001b[0m: name 'lwb_smr' is not defined"
     ]
    }
   ],
   "source": [
    "from importlib import reload  \n",
    "reload(lwb_smr)"
   ]
  },
  {
   "cell_type": "code",
   "execution_count": 18,
   "id": "512446be-b843-45d7-9e2e-1fdf9e343a72",
   "metadata": {},
   "outputs": [
    {
     "ename": "AttributeError",
     "evalue": "'PredictRoofy' object has no attribute 'tile_split'",
     "output_type": "error",
     "traceback": [
      "\u001b[0;31m---------------------------------------------------------------------------\u001b[0m",
      "\u001b[0;31mAttributeError\u001b[0m                            Traceback (most recent call last)",
      "\u001b[0;32m/tmp/ipykernel_20920/132815890.py\u001b[0m in \u001b[0;36m<module>\u001b[0;34m\u001b[0m\n\u001b[1;32m      1\u001b[0m \u001b[0;32mfrom\u001b[0m \u001b[0mlwb_smr\u001b[0m\u001b[0;34m.\u001b[0m\u001b[0mtry_predict\u001b[0m \u001b[0;32mimport\u001b[0m \u001b[0mPredictRoofy\u001b[0m\u001b[0;34m\u001b[0m\u001b[0;34m\u001b[0m\u001b[0m\n\u001b[1;32m      2\u001b[0m \u001b[0mpred_roof\u001b[0m \u001b[0;34m=\u001b[0m \u001b[0mPredictRoofy\u001b[0m\u001b[0;34m(\u001b[0m\u001b[0;34m)\u001b[0m\u001b[0;34m\u001b[0m\u001b[0;34m\u001b[0m\u001b[0m\n\u001b[0;32m----> 3\u001b[0;31m \u001b[0mpred_roof\u001b[0m\u001b[0;34m.\u001b[0m\u001b[0mtile_split\u001b[0m\u001b[0;34m(\u001b[0m\u001b[0;34m)\u001b[0m\u001b[0;34m\u001b[0m\u001b[0;34m\u001b[0m\u001b[0m\n\u001b[0m",
      "\u001b[0;31mAttributeError\u001b[0m: 'PredictRoofy' object has no attribute 'tile_split'"
     ]
    }
   ],
   "source": [
    "from lwb_smr.try_predict import PredictRoofy\n",
    "pred_roof = PredictRoofy()\n",
    "pred_roof.tile_split()"
   ]
  },
  {
   "cell_type": "code",
   "execution_count": 15,
   "id": "500173f4-c84e-438a-98bf-a85974465d4a",
   "metadata": {},
   "outputs": [
    {
     "ename": "SyntaxError",
     "evalue": "invalid syntax (prediction.py, line 92)",
     "output_type": "error",
     "traceback": [
      "Traceback \u001b[0;36m(most recent call last)\u001b[0m:\n",
      "  File \u001b[1;32m\"/home/joshk/.pyenv/versions/3.8.12/envs/lewagon/lib/python3.8/site-packages/IPython/core/interactiveshell.py\"\u001b[0m, line \u001b[1;32m3457\u001b[0m, in \u001b[1;35mrun_code\u001b[0m\n    exec(code_obj, self.user_global_ns, self.user_ns)\n",
      "\u001b[0;36m  File \u001b[0;32m\"/tmp/ipykernel_20920/2673903966.py\"\u001b[0;36m, line \u001b[0;32m1\u001b[0;36m, in \u001b[0;35m<module>\u001b[0;36m\u001b[0m\n\u001b[0;31m    from lwb_smr.prediction import PredictRoof\u001b[0m\n",
      "\u001b[0;36m  File \u001b[0;32m\"/home/joshk/code/lwb_smr/lwb_smr/lwb_smr/prediction.py\"\u001b[0;36m, line \u001b[0;32m92\u001b[0m\n\u001b[0;31m    def load_model(self):\u001b[0m\n\u001b[0m    ^\u001b[0m\n\u001b[0;31mSyntaxError\u001b[0m\u001b[0;31m:\u001b[0m invalid syntax\n"
     ]
    }
   ],
   "source": [
    "from lwb_smr.prediction import PredictRoof"
   ]
  },
  {
   "cell_type": "code",
   "execution_count": 24,
   "id": "8f980026-59d2-43b3-9263-df9ba4204d45",
   "metadata": {},
   "outputs": [
    {
     "name": "stderr",
     "output_type": "stream",
     "text": [
      "[autoreload of lwb_smr.predict failed: Traceback (most recent call last):\n",
      "  File \"/home/joshk/.pyenv/versions/3.8.12/envs/lewagon/lib/python3.8/site-packages/IPython/extensions/autoreload.py\", line 245, in check\n",
      "    superreload(m, reload, self.old_objects)\n",
      "  File \"/home/joshk/.pyenv/versions/3.8.12/envs/lewagon/lib/python3.8/site-packages/IPython/extensions/autoreload.py\", line 394, in superreload\n",
      "    module = reload(module)\n",
      "  File \"/home/joshk/.pyenv/versions/3.8.12/lib/python3.8/imp.py\", line 314, in reload\n",
      "    return importlib.reload(module)\n",
      "  File \"/home/joshk/.pyenv/versions/3.8.12/lib/python3.8/importlib/__init__.py\", line 169, in reload\n",
      "    _bootstrap._exec(spec, module)\n",
      "  File \"<frozen importlib._bootstrap>\", line 604, in _exec\n",
      "  File \"<frozen importlib._bootstrap_external>\", line 839, in exec_module\n",
      "  File \"<frozen importlib._bootstrap_external>\", line 976, in get_code\n",
      "  File \"<frozen importlib._bootstrap_external>\", line 906, in source_to_code\n",
      "  File \"<frozen importlib._bootstrap>\", line 219, in _call_with_frames_removed\n",
      "  File \"/home/joshk/code/lwb_smr/lwb_smr/lwb_smr/predict.py\", line 96\n",
      "    def load_model(self):\n",
      "    ^\n",
      "SyntaxError: invalid syntax\n",
      "]\n"
     ]
    }
   ],
   "source": [
    "pred_roof = PredictRoof()"
   ]
  },
  {
   "cell_type": "code",
   "execution_count": 21,
   "id": "545dce41-6f71-4dcd-9518-bdf151d43cee",
   "metadata": {},
   "outputs": [
    {
     "name": "stdout",
     "output_type": "stream",
     "text": [
      "completed tiling prediction_input_image\n"
     ]
    }
   ],
   "source": [
    "pred_roof.tile_split()"
   ]
  },
  {
   "cell_type": "code",
   "execution_count": 23,
   "id": "fb9595ab-3fcf-4a00-a0ed-d3c8d7633c52",
   "metadata": {},
   "outputs": [
    {
     "name": "stdout",
     "output_type": "stream",
     "text": [
      "13/26 [==============>...............] - ETA: 43s"
     ]
    },
    {
     "name": "stderr",
     "output_type": "stream",
     "text": [
      "2022-06-11 17:53:52.355013: W tensorflow/core/framework/op_kernel.cc:1745] OP_REQUIRES failed at whole_file_read_ops.cc:114 : FAILED_PRECONDITION: /home/joshk/code/lwb_smr/lwb_smr/raw_data/prediction/raw_image_tiles/.ipynb_checkpoints; Is a directory\n",
      "2022-06-11 17:53:52.359301: W tensorflow/core/framework/op_kernel.cc:1733] UNKNOWN: FailedPreconditionError: /home/joshk/code/lwb_smr/lwb_smr/raw_data/prediction/raw_image_tiles/.ipynb_checkpoints; Is a directory [Op:ReadFile]\n",
      "Traceback (most recent call last):\n",
      "\n",
      "  File \"/home/joshk/.pyenv/versions/3.8.12/envs/lewagon/lib/python3.8/site-packages/tensorflow/python/ops/script_ops.py\", line 270, in __call__\n",
      "    ret = func(*args)\n",
      "\n",
      "  File \"/home/joshk/.pyenv/versions/3.8.12/envs/lewagon/lib/python3.8/site-packages/tensorflow/python/autograph/impl/api.py\", line 642, in wrapper\n",
      "    return func(*args, **kwargs)\n",
      "\n",
      "  File \"/home/joshk/.pyenv/versions/3.8.12/envs/lewagon/lib/python3.8/site-packages/tensorflow/python/data/ops/dataset_ops.py\", line 1030, in generator_py_func\n",
      "    values = next(generator_state.get_iterator(iterator_id))\n",
      "\n",
      "  File \"/home/joshk/.pyenv/versions/3.8.12/envs/lewagon/lib/python3.8/site-packages/keras/engine/data_adapter.py\", line 831, in wrapped_generator\n",
      "    for data in generator_fn():\n",
      "\n",
      "  File \"/home/joshk/.pyenv/versions/3.8.12/envs/lewagon/lib/python3.8/site-packages/keras/engine/data_adapter.py\", line 957, in generator_fn\n",
      "    yield x[i]\n",
      "\n",
      "  File \"/home/joshk/code/lwb_smr/lwb_smr/lwb_smr/CustomDataLoaderPredict.py\", line 54, in __getitem__\n",
      "    img = tf.io.read_file(self.x_path+batch_x[i])\n",
      "\n",
      "  File \"/home/joshk/.pyenv/versions/3.8.12/envs/lewagon/lib/python3.8/site-packages/tensorflow/python/ops/io_ops.py\", line 133, in read_file\n",
      "    return gen_io_ops.read_file(filename, name)\n",
      "\n",
      "  File \"/home/joshk/.pyenv/versions/3.8.12/envs/lewagon/lib/python3.8/site-packages/tensorflow/python/ops/gen_io_ops.py\", line 566, in read_file\n",
      "    return read_file_eager_fallback(\n",
      "\n",
      "  File \"/home/joshk/.pyenv/versions/3.8.12/envs/lewagon/lib/python3.8/site-packages/tensorflow/python/ops/gen_io_ops.py\", line 589, in read_file_eager_fallback\n",
      "    _result = _execute.execute(b\"ReadFile\", 1, inputs=_inputs_flat,\n",
      "\n",
      "  File \"/home/joshk/.pyenv/versions/3.8.12/envs/lewagon/lib/python3.8/site-packages/tensorflow/python/eager/execute.py\", line 54, in quick_execute\n",
      "    tensors = pywrap_tfe.TFE_Py_Execute(ctx._handle, device_name, op_name,\n",
      "\n",
      "tensorflow.python.framework.errors_impl.FailedPreconditionError: /home/joshk/code/lwb_smr/lwb_smr/raw_data/prediction/raw_image_tiles/.ipynb_checkpoints; Is a directory [Op:ReadFile]\n",
      "\n",
      "\n"
     ]
    },
    {
     "name": "stdout",
     "output_type": "stream",
     "text": [
      "14/26 [===============>..............] - ETA: 40s"
     ]
    },
    {
     "ename": "UnknownError",
     "evalue": "Graph execution error:\n\nFailedPreconditionError: /home/joshk/code/lwb_smr/lwb_smr/raw_data/prediction/raw_image_tiles/.ipynb_checkpoints; Is a directory [Op:ReadFile]\nTraceback (most recent call last):\n\n  File \"/home/joshk/.pyenv/versions/3.8.12/envs/lewagon/lib/python3.8/site-packages/tensorflow/python/ops/script_ops.py\", line 270, in __call__\n    ret = func(*args)\n\n  File \"/home/joshk/.pyenv/versions/3.8.12/envs/lewagon/lib/python3.8/site-packages/tensorflow/python/autograph/impl/api.py\", line 642, in wrapper\n    return func(*args, **kwargs)\n\n  File \"/home/joshk/.pyenv/versions/3.8.12/envs/lewagon/lib/python3.8/site-packages/tensorflow/python/data/ops/dataset_ops.py\", line 1030, in generator_py_func\n    values = next(generator_state.get_iterator(iterator_id))\n\n  File \"/home/joshk/.pyenv/versions/3.8.12/envs/lewagon/lib/python3.8/site-packages/keras/engine/data_adapter.py\", line 831, in wrapped_generator\n    for data in generator_fn():\n\n  File \"/home/joshk/.pyenv/versions/3.8.12/envs/lewagon/lib/python3.8/site-packages/keras/engine/data_adapter.py\", line 957, in generator_fn\n    yield x[i]\n\n  File \"/home/joshk/code/lwb_smr/lwb_smr/lwb_smr/CustomDataLoaderPredict.py\", line 54, in __getitem__\n    img = tf.io.read_file(self.x_path+batch_x[i])\n\n  File \"/home/joshk/.pyenv/versions/3.8.12/envs/lewagon/lib/python3.8/site-packages/tensorflow/python/ops/io_ops.py\", line 133, in read_file\n    return gen_io_ops.read_file(filename, name)\n\n  File \"/home/joshk/.pyenv/versions/3.8.12/envs/lewagon/lib/python3.8/site-packages/tensorflow/python/ops/gen_io_ops.py\", line 566, in read_file\n    return read_file_eager_fallback(\n\n  File \"/home/joshk/.pyenv/versions/3.8.12/envs/lewagon/lib/python3.8/site-packages/tensorflow/python/ops/gen_io_ops.py\", line 589, in read_file_eager_fallback\n    _result = _execute.execute(b\"ReadFile\", 1, inputs=_inputs_flat,\n\n  File \"/home/joshk/.pyenv/versions/3.8.12/envs/lewagon/lib/python3.8/site-packages/tensorflow/python/eager/execute.py\", line 54, in quick_execute\n    tensors = pywrap_tfe.TFE_Py_Execute(ctx._handle, device_name, op_name,\n\ntensorflow.python.framework.errors_impl.FailedPreconditionError: /home/joshk/code/lwb_smr/lwb_smr/raw_data/prediction/raw_image_tiles/.ipynb_checkpoints; Is a directory [Op:ReadFile]\n\n\n\t [[{{node PyFunc}}]]\n\t [[IteratorGetNext]] [Op:__inference_predict_function_27744]",
     "output_type": "error",
     "traceback": [
      "\u001b[0;31m---------------------------------------------------------------------------\u001b[0m",
      "\u001b[0;31mUnknownError\u001b[0m                              Traceback (most recent call last)",
      "\u001b[0;32m/tmp/ipykernel_9350/1335761402.py\u001b[0m in \u001b[0;36m<module>\u001b[0;34m\u001b[0m\n\u001b[0;32m----> 1\u001b[0;31m \u001b[0mpred_roof_images\u001b[0m \u001b[0;34m=\u001b[0m \u001b[0mpred_roof\u001b[0m\u001b[0;34m.\u001b[0m\u001b[0mperform_prediction\u001b[0m\u001b[0;34m(\u001b[0m\u001b[0;34m)\u001b[0m\u001b[0;34m\u001b[0m\u001b[0;34m\u001b[0m\u001b[0m\n\u001b[0m",
      "\u001b[0;32m~/code/lwb_smr/lwb_smr/lwb_smr/predict.py\u001b[0m in \u001b[0;36mperform_prediction\u001b[0;34m(self)\u001b[0m\n\u001b[1;32m    100\u001b[0m         \u001b[0;31m# load the pre-trained model\u001b[0m\u001b[0;34m\u001b[0m\u001b[0;34m\u001b[0m\u001b[0;34m\u001b[0m\u001b[0m\n\u001b[1;32m    101\u001b[0m         \u001b[0mself\u001b[0m\u001b[0;34m.\u001b[0m\u001b[0mloaded_model\u001b[0m \u001b[0;34m=\u001b[0m \u001b[0mkeras\u001b[0m\u001b[0;34m.\u001b[0m\u001b[0mmodels\u001b[0m\u001b[0;34m.\u001b[0m\u001b[0mload_model\u001b[0m\u001b[0;34m(\u001b[0m\u001b[0mpredict_paths_dict\u001b[0m\u001b[0;34m[\u001b[0m\u001b[0;34m'model_path'\u001b[0m\u001b[0;34m]\u001b[0m\u001b[0;34m)\u001b[0m\u001b[0;34m\u001b[0m\u001b[0;34m\u001b[0m\u001b[0m\n\u001b[0;32m--> 102\u001b[0;31m \u001b[0;34m\u001b[0m\u001b[0m\n\u001b[0m\u001b[1;32m    103\u001b[0m     \u001b[0;32mdef\u001b[0m \u001b[0mperform_prediction\u001b[0m\u001b[0;34m(\u001b[0m\u001b[0mself\u001b[0m\u001b[0;34m)\u001b[0m\u001b[0;34m:\u001b[0m\u001b[0;34m\u001b[0m\u001b[0;34m\u001b[0m\u001b[0m\n\u001b[1;32m    104\u001b[0m         '''\n",
      "\u001b[0;32m~/.pyenv/versions/3.8.12/envs/lewagon/lib/python3.8/site-packages/keras/utils/traceback_utils.py\u001b[0m in \u001b[0;36merror_handler\u001b[0;34m(*args, **kwargs)\u001b[0m\n\u001b[1;32m     65\u001b[0m     \u001b[0;32mexcept\u001b[0m \u001b[0mException\u001b[0m \u001b[0;32mas\u001b[0m \u001b[0me\u001b[0m\u001b[0;34m:\u001b[0m  \u001b[0;31m# pylint: disable=broad-except\u001b[0m\u001b[0;34m\u001b[0m\u001b[0;34m\u001b[0m\u001b[0m\n\u001b[1;32m     66\u001b[0m       \u001b[0mfiltered_tb\u001b[0m \u001b[0;34m=\u001b[0m \u001b[0m_process_traceback_frames\u001b[0m\u001b[0;34m(\u001b[0m\u001b[0me\u001b[0m\u001b[0;34m.\u001b[0m\u001b[0m__traceback__\u001b[0m\u001b[0;34m)\u001b[0m\u001b[0;34m\u001b[0m\u001b[0;34m\u001b[0m\u001b[0m\n\u001b[0;32m---> 67\u001b[0;31m       \u001b[0;32mraise\u001b[0m \u001b[0me\u001b[0m\u001b[0;34m.\u001b[0m\u001b[0mwith_traceback\u001b[0m\u001b[0;34m(\u001b[0m\u001b[0mfiltered_tb\u001b[0m\u001b[0;34m)\u001b[0m \u001b[0;32mfrom\u001b[0m \u001b[0;32mNone\u001b[0m\u001b[0;34m\u001b[0m\u001b[0;34m\u001b[0m\u001b[0m\n\u001b[0m\u001b[1;32m     68\u001b[0m     \u001b[0;32mfinally\u001b[0m\u001b[0;34m:\u001b[0m\u001b[0;34m\u001b[0m\u001b[0;34m\u001b[0m\u001b[0m\n\u001b[1;32m     69\u001b[0m       \u001b[0;32mdel\u001b[0m \u001b[0mfiltered_tb\u001b[0m\u001b[0;34m\u001b[0m\u001b[0;34m\u001b[0m\u001b[0m\n",
      "\u001b[0;32m~/.pyenv/versions/3.8.12/envs/lewagon/lib/python3.8/site-packages/tensorflow/python/eager/execute.py\u001b[0m in \u001b[0;36mquick_execute\u001b[0;34m(op_name, num_outputs, inputs, attrs, ctx, name)\u001b[0m\n\u001b[1;32m     52\u001b[0m   \u001b[0;32mtry\u001b[0m\u001b[0;34m:\u001b[0m\u001b[0;34m\u001b[0m\u001b[0;34m\u001b[0m\u001b[0m\n\u001b[1;32m     53\u001b[0m     \u001b[0mctx\u001b[0m\u001b[0;34m.\u001b[0m\u001b[0mensure_initialized\u001b[0m\u001b[0;34m(\u001b[0m\u001b[0;34m)\u001b[0m\u001b[0;34m\u001b[0m\u001b[0;34m\u001b[0m\u001b[0m\n\u001b[0;32m---> 54\u001b[0;31m     tensors = pywrap_tfe.TFE_Py_Execute(ctx._handle, device_name, op_name,\n\u001b[0m\u001b[1;32m     55\u001b[0m                                         inputs, attrs, num_outputs)\n\u001b[1;32m     56\u001b[0m   \u001b[0;32mexcept\u001b[0m \u001b[0mcore\u001b[0m\u001b[0;34m.\u001b[0m\u001b[0m_NotOkStatusException\u001b[0m \u001b[0;32mas\u001b[0m \u001b[0me\u001b[0m\u001b[0;34m:\u001b[0m\u001b[0;34m\u001b[0m\u001b[0;34m\u001b[0m\u001b[0m\n",
      "\u001b[0;31mUnknownError\u001b[0m: Graph execution error:\n\nFailedPreconditionError: /home/joshk/code/lwb_smr/lwb_smr/raw_data/prediction/raw_image_tiles/.ipynb_checkpoints; Is a directory [Op:ReadFile]\nTraceback (most recent call last):\n\n  File \"/home/joshk/.pyenv/versions/3.8.12/envs/lewagon/lib/python3.8/site-packages/tensorflow/python/ops/script_ops.py\", line 270, in __call__\n    ret = func(*args)\n\n  File \"/home/joshk/.pyenv/versions/3.8.12/envs/lewagon/lib/python3.8/site-packages/tensorflow/python/autograph/impl/api.py\", line 642, in wrapper\n    return func(*args, **kwargs)\n\n  File \"/home/joshk/.pyenv/versions/3.8.12/envs/lewagon/lib/python3.8/site-packages/tensorflow/python/data/ops/dataset_ops.py\", line 1030, in generator_py_func\n    values = next(generator_state.get_iterator(iterator_id))\n\n  File \"/home/joshk/.pyenv/versions/3.8.12/envs/lewagon/lib/python3.8/site-packages/keras/engine/data_adapter.py\", line 831, in wrapped_generator\n    for data in generator_fn():\n\n  File \"/home/joshk/.pyenv/versions/3.8.12/envs/lewagon/lib/python3.8/site-packages/keras/engine/data_adapter.py\", line 957, in generator_fn\n    yield x[i]\n\n  File \"/home/joshk/code/lwb_smr/lwb_smr/lwb_smr/CustomDataLoaderPredict.py\", line 54, in __getitem__\n    img = tf.io.read_file(self.x_path+batch_x[i])\n\n  File \"/home/joshk/.pyenv/versions/3.8.12/envs/lewagon/lib/python3.8/site-packages/tensorflow/python/ops/io_ops.py\", line 133, in read_file\n    return gen_io_ops.read_file(filename, name)\n\n  File \"/home/joshk/.pyenv/versions/3.8.12/envs/lewagon/lib/python3.8/site-packages/tensorflow/python/ops/gen_io_ops.py\", line 566, in read_file\n    return read_file_eager_fallback(\n\n  File \"/home/joshk/.pyenv/versions/3.8.12/envs/lewagon/lib/python3.8/site-packages/tensorflow/python/ops/gen_io_ops.py\", line 589, in read_file_eager_fallback\n    _result = _execute.execute(b\"ReadFile\", 1, inputs=_inputs_flat,\n\n  File \"/home/joshk/.pyenv/versions/3.8.12/envs/lewagon/lib/python3.8/site-packages/tensorflow/python/eager/execute.py\", line 54, in quick_execute\n    tensors = pywrap_tfe.TFE_Py_Execute(ctx._handle, device_name, op_name,\n\ntensorflow.python.framework.errors_impl.FailedPreconditionError: /home/joshk/code/lwb_smr/lwb_smr/raw_data/prediction/raw_image_tiles/.ipynb_checkpoints; Is a directory [Op:ReadFile]\n\n\n\t [[{{node PyFunc}}]]\n\t [[IteratorGetNext]] [Op:__inference_predict_function_27744]"
     ]
    }
   ],
   "source": [
    "pred_roof_images = pred_roof.perform_prediction()"
   ]
  },
  {
   "cell_type": "code",
   "execution_count": null,
   "id": "5acf1b4c-0df6-44f2-9647-7b9978e4bd69",
   "metadata": {},
   "outputs": [],
   "source": []
  }
 ],
 "metadata": {
  "kernelspec": {
   "display_name": "Python 3 (ipykernel)",
   "language": "python",
   "name": "python3"
  },
  "language_info": {
   "codemirror_mode": {
    "name": "ipython",
    "version": 3
   },
   "file_extension": ".py",
   "mimetype": "text/x-python",
   "name": "python",
   "nbconvert_exporter": "python",
   "pygments_lexer": "ipython3",
   "version": "3.8.12"
  }
 },
 "nbformat": 4,
 "nbformat_minor": 5
}
